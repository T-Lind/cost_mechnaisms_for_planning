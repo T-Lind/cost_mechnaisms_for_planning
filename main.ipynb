{
 "cells": [
  {
   "metadata": {},
   "cell_type": "markdown",
   "source": [
    "# Wedding FOM Example\n",
    "T-Lind"
   ],
   "id": "6a09a85187f304c6"
  },
  {
   "metadata": {},
   "cell_type": "markdown",
   "source": "Uses a configuration file found in the samples directory to compute the optimal policy for the wedding example.",
   "id": "280fa92737bb59ab"
  },
  {
   "metadata": {
    "ExecuteTime": {
     "end_time": "2024-04-07T21:13:27.017772Z",
     "start_time": "2024-04-07T21:13:27.007601Z"
    }
   },
   "cell_type": "code",
   "source": [
    "import json\n",
    "from timeit import default_timer as timer\n",
    "import matplotlib.pyplot as plt\n",
    "\n",
    "from ptcr2.fom import FOM\n",
    "\n",
    "config_file = 'samples/wedding_fom.json'\n",
    "# parse file name\n",
    "file_name = config_file.split('/')[-1].split('.')[0]\n",
    "\n",
    "with open(config_file) as f:\n",
    "    spec = json.loads(f.read())\n"
   ],
   "id": "initial_id",
   "outputs": [],
   "execution_count": 4
  },
  {
   "metadata": {
    "ExecuteTime": {
     "end_time": "2024-04-07T21:13:29.756659Z",
     "start_time": "2024-04-07T21:13:28.914736Z"
    }
   },
   "cell_type": "code",
   "source": "load_from_file = input(\"Load from file? (y/n): \")",
   "id": "aba170e0e2add833",
   "outputs": [],
   "execution_count": 5
  },
  {
   "metadata": {},
   "cell_type": "markdown",
   "source": "Computes the optimal policy. Prints out the time taken to compute the optimal policy as well as the configuration file used.",
   "id": "deb76197ec54195b"
  },
  {
   "metadata": {
    "ExecuteTime": {
     "end_time": "2024-04-07T21:15:10.793633Z",
     "start_time": "2024-04-07T21:13:31.277537Z"
    }
   },
   "cell_type": "code",
   "source": [
    "if load_from_file != 'y':\n",
    "    wedding_fom = FOM()\n",
    "    start = timer()\n",
    "    wedding_fom.compute_optimal_policy(spec)\n",
    "    end = timer()\n",
    "\n",
    "    print('Time elapsed to compute optimal policy: ', end - start)"
   ],
   "id": "cdb70a1e713a534d",
   "outputs": [
    {
     "data": {
      "text/plain": [
       "Formatting checks succeeded.\n"
      ],
      "text/html": [
       "<pre style=\"white-space:pre;overflow-x:auto;line-height:normal;font-family:Menlo,'DejaVu Sans Mono',consolas,'Courier New',monospace\">Formatting checks succeeded.\n",
       "</pre>\n"
      ]
     },
     "metadata": {},
     "output_type": "display_data"
    },
    {
     "data": {
      "text/plain": [
       "\u001B[3m            Transition Matrix            \u001B[0m\n",
       "┏━━━┳━━━━━┳━━━━━┳━━━━━┳━━━━━┳━━━━━┳━━━━━┓\n",
       "┃\u001B[1m \u001B[0m\u001B[1m \u001B[0m\u001B[1m \u001B[0m┃\u001B[1m \u001B[0m\u001B[1mI  \u001B[0m\u001B[1m \u001B[0m┃\u001B[1m \u001B[0m\u001B[1mE  \u001B[0m\u001B[1m \u001B[0m┃\u001B[1m \u001B[0m\u001B[1mB  \u001B[0m\u001B[1m \u001B[0m┃\u001B[1m \u001B[0m\u001B[1mC  \u001B[0m\u001B[1m \u001B[0m┃\u001B[1m \u001B[0m\u001B[1mD  \u001B[0m\u001B[1m \u001B[0m┃\u001B[1m \u001B[0m\u001B[1mS  \u001B[0m\u001B[1m \u001B[0m┃\n",
       "┡━━━╇━━━━━╇━━━━━╇━━━━━╇━━━━━╇━━━━━╇━━━━━┩\n",
       "│ I │ 0.0 │ 0.1 │ 0.3 │ 0.1 │ 0.2 │ 0.3 │\n",
       "│ E │ 0.0 │ 0.1 │ 0.2 │ 0.1 │ 0.3 │ 0.3 │\n",
       "│ B │ 0.0 │ 0.2 │ 0.1 │ 0.1 │ 0.3 │ 0.3 │\n",
       "│ C │ 0.0 │ 0.1 │ 0.2 │ 0.2 │ 0.3 │ 0.2 │\n",
       "│ D │ 0.0 │ 0.2 │ 0.3 │ 0.1 │ 0.1 │ 0.3 │\n",
       "│ S │ 0.0 │ 0.4 │ 0.2 │ 0.2 │ 0.2 │ 0.0 │\n",
       "└───┴─────┴─────┴─────┴─────┴─────┴─────┘\n"
      ],
      "text/html": [
       "<pre style=\"white-space:pre;overflow-x:auto;line-height:normal;font-family:Menlo,'DejaVu Sans Mono',consolas,'Courier New',monospace\"><span style=\"font-style: italic\">            Transition Matrix            </span>\n",
       "┏━━━┳━━━━━┳━━━━━┳━━━━━┳━━━━━┳━━━━━┳━━━━━┓\n",
       "┃<span style=\"font-weight: bold\">   </span>┃<span style=\"font-weight: bold\"> I   </span>┃<span style=\"font-weight: bold\"> E   </span>┃<span style=\"font-weight: bold\"> B   </span>┃<span style=\"font-weight: bold\"> C   </span>┃<span style=\"font-weight: bold\"> D   </span>┃<span style=\"font-weight: bold\"> S   </span>┃\n",
       "┡━━━╇━━━━━╇━━━━━╇━━━━━╇━━━━━╇━━━━━╇━━━━━┩\n",
       "│ I │ 0.0 │ 0.1 │ 0.3 │ 0.1 │ 0.2 │ 0.3 │\n",
       "│ E │ 0.0 │ 0.1 │ 0.2 │ 0.1 │ 0.3 │ 0.3 │\n",
       "│ B │ 0.0 │ 0.2 │ 0.1 │ 0.1 │ 0.3 │ 0.3 │\n",
       "│ C │ 0.0 │ 0.1 │ 0.2 │ 0.2 │ 0.3 │ 0.2 │\n",
       "│ D │ 0.0 │ 0.2 │ 0.3 │ 0.1 │ 0.1 │ 0.3 │\n",
       "│ S │ 0.0 │ 0.4 │ 0.2 │ 0.2 │ 0.2 │ 0.0 │\n",
       "└───┴─────┴─────┴─────┴─────┴─────┴─────┘\n",
       "</pre>\n"
      ]
     },
     "metadata": {},
     "output_type": "display_data"
    },
    {
     "data": {
      "text/plain": [
       "\u001B[3m        Initial Distribution         \u001B[0m\n",
       "┏━━━━━┳━━━━━┳━━━━━┳━━━━━┳━━━━━┳━━━━━┓\n",
       "┃\u001B[1m \u001B[0m\u001B[1mI  \u001B[0m\u001B[1m \u001B[0m┃\u001B[1m \u001B[0m\u001B[1mE  \u001B[0m\u001B[1m \u001B[0m┃\u001B[1m \u001B[0m\u001B[1mB  \u001B[0m\u001B[1m \u001B[0m┃\u001B[1m \u001B[0m\u001B[1mC  \u001B[0m\u001B[1m \u001B[0m┃\u001B[1m \u001B[0m\u001B[1mD  \u001B[0m\u001B[1m \u001B[0m┃\u001B[1m \u001B[0m\u001B[1mS  \u001B[0m\u001B[1m \u001B[0m┃\n",
       "┡━━━━━╇━━━━━╇━━━━━╇━━━━━╇━━━━━╇━━━━━┩\n",
       "│ 0.0 │ 0.1 │ 0.3 │ 0.2 │ 0.2 │ 0.2 │\n",
       "└─────┴─────┴─────┴─────┴─────┴─────┘\n"
      ],
      "text/html": [
       "<pre style=\"white-space:pre;overflow-x:auto;line-height:normal;font-family:Menlo,'DejaVu Sans Mono',consolas,'Courier New',monospace\"><span style=\"font-style: italic\">        Initial Distribution         </span>\n",
       "┏━━━━━┳━━━━━┳━━━━━┳━━━━━┳━━━━━┳━━━━━┓\n",
       "┃<span style=\"font-weight: bold\"> I   </span>┃<span style=\"font-weight: bold\"> E   </span>┃<span style=\"font-weight: bold\"> B   </span>┃<span style=\"font-weight: bold\"> C   </span>┃<span style=\"font-weight: bold\"> D   </span>┃<span style=\"font-weight: bold\"> S   </span>┃\n",
       "┡━━━━━╇━━━━━╇━━━━━╇━━━━━╇━━━━━╇━━━━━┩\n",
       "│ 0.0 │ 0.1 │ 0.3 │ 0.2 │ 0.2 │ 0.2 │\n",
       "└─────┴─────┴─────┴─────┴─────┴─────┘\n",
       "</pre>\n"
      ]
     },
     "metadata": {},
     "output_type": "display_data"
    },
    {
     "data": {
      "text/plain": [
       "\u001B[3m         Cost Matrix         \u001B[0m\n",
       "┏━━━┳━━━┳━━━┳━━━┳━━━┳━━━┳━━━┓\n",
       "┃\u001B[1m \u001B[0m\u001B[1m \u001B[0m\u001B[1m \u001B[0m┃\u001B[1m \u001B[0m\u001B[1mI\u001B[0m\u001B[1m \u001B[0m┃\u001B[1m \u001B[0m\u001B[1mE\u001B[0m\u001B[1m \u001B[0m┃\u001B[1m \u001B[0m\u001B[1mB\u001B[0m\u001B[1m \u001B[0m┃\u001B[1m \u001B[0m\u001B[1mC\u001B[0m\u001B[1m \u001B[0m┃\u001B[1m \u001B[0m\u001B[1mD\u001B[0m\u001B[1m \u001B[0m┃\u001B[1m \u001B[0m\u001B[1mS\u001B[0m\u001B[1m \u001B[0m┃\n",
       "┡━━━╇━━━╇━━━╇━━━╇━━━╇━━━╇━━━┩\n",
       "│ I │ 0 │ 1 │ 2 │ 3 │ 4 │ 5 │\n",
       "│ E │ 1 │ 0 │ 1 │ 2 │ 3 │ 4 │\n",
       "│ B │ 2 │ 1 │ 0 │ 1 │ 2 │ 3 │\n",
       "│ C │ 3 │ 2 │ 1 │ 0 │ 1 │ 2 │\n",
       "│ D │ 4 │ 3 │ 2 │ 1 │ 0 │ 1 │\n",
       "│ S │ 5 │ 4 │ 3 │ 2 │ 1 │ 0 │\n",
       "└───┴───┴───┴───┴───┴───┴───┘\n"
      ],
      "text/html": [
       "<pre style=\"white-space:pre;overflow-x:auto;line-height:normal;font-family:Menlo,'DejaVu Sans Mono',consolas,'Courier New',monospace\"><span style=\"font-style: italic\">         Cost Matrix         </span>\n",
       "┏━━━┳━━━┳━━━┳━━━┳━━━┳━━━┳━━━┓\n",
       "┃<span style=\"font-weight: bold\">   </span>┃<span style=\"font-weight: bold\"> I </span>┃<span style=\"font-weight: bold\"> E </span>┃<span style=\"font-weight: bold\"> B </span>┃<span style=\"font-weight: bold\"> C </span>┃<span style=\"font-weight: bold\"> D </span>┃<span style=\"font-weight: bold\"> S </span>┃\n",
       "┡━━━╇━━━╇━━━╇━━━╇━━━╇━━━╇━━━┩\n",
       "│ I │ 0 │ 1 │ 2 │ 3 │ 4 │ 5 │\n",
       "│ E │ 1 │ 0 │ 1 │ 2 │ 3 │ 4 │\n",
       "│ B │ 2 │ 1 │ 0 │ 1 │ 2 │ 3 │\n",
       "│ C │ 3 │ 2 │ 1 │ 0 │ 1 │ 2 │\n",
       "│ D │ 4 │ 3 │ 2 │ 1 │ 0 │ 1 │\n",
       "│ S │ 5 │ 4 │ 3 │ 2 │ 1 │ 0 │\n",
       "└───┴───┴───┴───┴───┴───┴───┘\n",
       "</pre>\n"
      ]
     },
     "metadata": {},
     "output_type": "display_data"
    },
    {
     "data": {
      "text/plain": [
       "\u001B[3mAlphabet \u001B[0m\n",
       "┏━━━━━━━┓\n",
       "┃\u001B[1m \u001B[0m\u001B[1mItems\u001B[0m\u001B[1m \u001B[0m┃\n",
       "┡━━━━━━━┩\n",
       "│ s3    │\n",
       "│ d12   │\n",
       "│ d23   │\n",
       "│ s2    │\n",
       "│ c3    │\n",
       "│ e3    │\n",
       "│ s1    │\n",
       "│ c1    │\n",
       "│ d1    │\n",
       "│ d3    │\n",
       "│ d2    │\n",
       "│ c2    │\n",
       "│ e1    │\n",
       "│ b2    │\n",
       "│ b1    │\n",
       "│ e2    │\n",
       "│ b3    │\n",
       "└───────┘\n"
      ],
      "text/html": [
       "<pre style=\"white-space:pre;overflow-x:auto;line-height:normal;font-family:Menlo,'DejaVu Sans Mono',consolas,'Courier New',monospace\"><span style=\"font-style: italic\">Alphabet </span>\n",
       "┏━━━━━━━┓\n",
       "┃<span style=\"font-weight: bold\"> Items </span>┃\n",
       "┡━━━━━━━┩\n",
       "│ s3    │\n",
       "│ d12   │\n",
       "│ d23   │\n",
       "│ s2    │\n",
       "│ c3    │\n",
       "│ e3    │\n",
       "│ s1    │\n",
       "│ c1    │\n",
       "│ d1    │\n",
       "│ d3    │\n",
       "│ d2    │\n",
       "│ c2    │\n",
       "│ e1    │\n",
       "│ b2    │\n",
       "│ b1    │\n",
       "│ e2    │\n",
       "│ b3    │\n",
       "└───────┘\n",
       "</pre>\n"
      ]
     },
     "metadata": {},
     "output_type": "display_data"
    },
    {
     "data": {
      "text/plain": [
       "Single initial state \u001B[1;36m0\u001B[0m:\n",
       "\u001B[1m[\u001B[0m\u001B[1m[\u001B[0m\u001B[1m(\u001B[0m\u001B[32m'd1'\u001B[0m, \u001B[32m'd2'\u001B[0m\u001B[1m)\u001B[0m, \u001B[32m'd12'\u001B[0m\u001B[1m]\u001B[0m\u001B[1m]\u001B[0m\n"
      ],
      "text/html": [
       "<pre style=\"white-space:pre;overflow-x:auto;line-height:normal;font-family:Menlo,'DejaVu Sans Mono',consolas,'Courier New',monospace\">Single initial state <span style=\"color: #008080; text-decoration-color: #008080; font-weight: bold\">0</span>:\n",
       "<span style=\"font-weight: bold\">[[(</span><span style=\"color: #008000; text-decoration-color: #008000\">'d1'</span>, <span style=\"color: #008000; text-decoration-color: #008000\">'d2'</span><span style=\"font-weight: bold\">)</span>, <span style=\"color: #008000; text-decoration-color: #008000\">'d12'</span><span style=\"font-weight: bold\">]]</span>\n",
       "</pre>\n"
      ]
     },
     "metadata": {},
     "output_type": "display_data"
    },
    {
     "data": {
      "text/plain": [
       "Single initial state \u001B[1;36m1\u001B[0m:\n",
       "\u001B[1m[\u001B[0m\u001B[1m[\u001B[0m\u001B[1m(\u001B[0m\u001B[32m'd2'\u001B[0m, \u001B[32m'd3'\u001B[0m\u001B[1m)\u001B[0m, \u001B[32m'd23'\u001B[0m\u001B[1m]\u001B[0m\u001B[1m]\u001B[0m\n"
      ],
      "text/html": [
       "<pre style=\"white-space:pre;overflow-x:auto;line-height:normal;font-family:Menlo,'DejaVu Sans Mono',consolas,'Courier New',monospace\">Single initial state <span style=\"color: #008080; text-decoration-color: #008080; font-weight: bold\">1</span>:\n",
       "<span style=\"font-weight: bold\">[[(</span><span style=\"color: #008000; text-decoration-color: #008000\">'d2'</span>, <span style=\"color: #008000; text-decoration-color: #008000\">'d3'</span><span style=\"font-weight: bold\">)</span>, <span style=\"color: #008000; text-decoration-color: #008000\">'d23'</span><span style=\"font-weight: bold\">]]</span>\n",
       "</pre>\n"
      ]
     },
     "metadata": {},
     "output_type": "display_data"
    },
    {
     "name": "stdout",
     "output_type": "stream",
     "text": [
      "Adding v0 =  3_I_I_I\n",
      "Unreachable state have been recognized\n",
      "Start checking transitions to remove\n",
      "Number of transitions: 2587213\n",
      "End checking transitions to remove\n",
      "Start removing unreachable transitions\n",
      "End removing unreachable transitions\n",
      "Start removing unreachable states\n",
      "End removing unreachable states\n",
      "Start reindexing states\n",
      "End reindexing states\n",
      "Number of unreachable states removed = 0\n",
      "Number of unreachable transitions removed = 0\n",
      "Time elapsed to compute optimal policy:  99.50616\n"
     ]
    }
   ],
   "execution_count": 6
  },
  {
   "metadata": {},
   "cell_type": "markdown",
   "source": "Saving the model that was generated to a file. This will allow for faster loading in the future.",
   "id": "b4b54eb77c75391e"
  },
  {
   "metadata": {
    "ExecuteTime": {
     "end_time": "2024-04-07T21:15:14.242115Z",
     "start_time": "2024-04-07T21:15:10.795530Z"
    }
   },
   "cell_type": "code",
   "source": [
    "if load_from_file != 'y':\n",
    "    fom_save_file_name = wedding_fom.save()\n",
    "    print('Model saved to: ', fom_save_file_name)"
   ],
   "id": "25b56da04e5f738b",
   "outputs": [
    {
     "name": "stdout",
     "output_type": "stream",
     "text": [
      "Model saved to:  saves/ptcr_model_20240407-161510.pkl\n"
     ]
    }
   ],
   "execution_count": 7
  },
  {
   "metadata": {},
   "cell_type": "markdown",
   "source": "Loads the model from the file that was saved. This is useful for when you want to run simulations on the model without having to recompute the optimal policy.",
   "id": "c27a4168e54b630"
  },
  {
   "metadata": {
    "ExecuteTime": {
     "end_time": "2024-04-07T18:13:19.730260Z",
     "start_time": "2024-04-07T18:13:19.721900Z"
    }
   },
   "cell_type": "code",
   "source": [
    "if load_from_file == 'y':\n",
    "    fom_save_file_name = 'saves/ptcr_model_20240407-125823.pkl'\n",
    "    is_file = input(\"Is this the correct file? (y/n): \")\n",
    "    if is_file == 'n':\n",
    "        fom_save_file_name = input(\"Enter the correct file name: \")\n",
    "    wedding_fom = FOM.load(fom_save_file_name)"
   ],
   "id": "bf87cd289a86321",
   "outputs": [],
   "execution_count": 13
  },
  {
   "metadata": {},
   "cell_type": "markdown",
   "source": "Plots the training runs of the general algorithm. This can be helpful to determine how various factors might affect the training process.",
   "id": "3ad6447d364524ef"
  },
  {
   "metadata": {
    "ExecuteTime": {
     "end_time": "2024-04-07T21:16:02.551855Z",
     "start_time": "2024-04-07T21:16:02.410370Z"
    }
   },
   "cell_type": "code",
   "source": [
    "plt.title('Difference Measured While Computing Optimal Policy')\n",
    "plt.xlabel('Iteration')\n",
    "plt.ylabel('Difference')\n",
    "plt.plot(wedding_fom.computed_policy['diff_tracker'], 'g', label='Run')\n",
    "plt.axhline(wedding_fom.epsilon, linestyle='--', color='r', label='Epsilon of Convergence')\n",
    "plt.legend()"
   ],
   "id": "7689e6d6f41d67cc",
   "outputs": [
    {
     "data": {
      "text/plain": [
       "<matplotlib.legend.Legend at 0x163506d4100>"
      ]
     },
     "execution_count": 10,
     "metadata": {},
     "output_type": "execute_result"
    },
    {
     "data": {
      "text/plain": [
       "<Figure size 640x480 with 1 Axes>"
      ],
      "image/png": "[encoded data removed]"
     },
     "metadata": {},
     "output_type": "display_data"
    }
   ],
   "execution_count": 10
  },
  {
   "metadata": {},
   "cell_type": "markdown",
   "source": "Prints the result of one simulation run for both the general and greedy algorithm. This can be used to compare how much better our general algorithm is.",
   "id": "b48d179858cbba09"
  },
  {
   "metadata": {
    "ExecuteTime": {
     "end_time": "2024-04-07T21:15:14.459701Z",
     "start_time": "2024-04-07T21:15:14.445069Z"
    }
   },
   "cell_type": "code",
   "source": [
    "# Example run\n",
    "results = wedding_fom.simulate_general_and_greedy_algorithms()  # Spec not needed since we're computing optimal policy separately\n",
    "\n",
    "print(results)"
   ],
   "id": "34a73d16015329bc",
   "outputs": [
    {
     "name": "stdout",
     "output_type": "stream",
     "text": [
      "{'general_algorithm': {'steps': 15, 'story': 's3d2s3c3d12', 'total_cost': 7}, 'greedy_algorithm': {'steps': 15, 'story': 's3d2s3c3d12', 'total_cost': 7}}\n"
     ]
    }
   ],
   "execution_count": 9
  },
  {
   "metadata": {
    "ExecuteTime": {
     "end_time": "2024-04-07T21:16:51.435226Z",
     "start_time": "2024-04-07T21:16:11.520204Z"
    }
   },
   "cell_type": "code",
   "source": [
    "from tqdm import tqdm\n",
    "\n",
    "# Now, simulate the algorithms across 1000 runs\n",
    "n_runs = 10_000\n",
    "\n",
    "general_steps = []\n",
    "greedy_steps = []\n",
    "\n",
    "general_costs = []\n",
    "greedy_costs = []\n",
    "\n",
    "for i in tqdm(range(n_runs)):\n",
    "    results = wedding_fom.simulate_general_and_greedy_algorithms()\n",
    "    general_steps.append(results['general_algorithm']['steps'])\n",
    "    greedy_steps.append(results['greedy_algorithm']['steps'])\n",
    "    \n",
    "    general_costs.append(results['general_algorithm']['total_cost'])\n",
    "    greedy_costs.append(results['greedy_algorithm']['total_cost'])"
   ],
   "id": "966e9c2a69594d0e",
   "outputs": [
    {
     "name": "stderr",
     "output_type": "stream",
     "text": [
      "100%|██████████| 10000/10000 [00:39<00:00, 250.89it/s]\n"
     ]
    }
   ],
   "execution_count": 11
  },
  {
   "metadata": {
    "ExecuteTime": {
     "end_time": "2024-04-07T21:17:10.005303Z",
     "start_time": "2024-04-07T21:17:09.782741Z"
    }
   },
   "cell_type": "code",
   "source": [
    "# Plot the two histograms, with general/greedy distributions in different colors\n",
    "plt.hist(general_steps, bins=50, alpha=0.5, label='General Algorithm')\n",
    "plt.hist(greedy_steps, bins=50, alpha=0.5, label='Greedy Algorithm')\n",
    "plt.legend()\n",
    "plt.title('Distribution of Steps Taken by General and Greedy Algorithms')\n",
    "plt.xlabel('Steps')\n",
    "plt.ylabel('Frequency')\n",
    "plt.show()"
   ],
   "id": "5f5da8c82a449b7e",
   "outputs": [
    {
     "data": {
      "text/plain": [
       "<Figure size 640x480 with 1 Axes>"
      ],
      "image/png": "[encoded data removed]"
     },
     "metadata": {},
     "output_type": "display_data"
    }
   ],
   "execution_count": 12
  },
  {
   "metadata": {
    "ExecuteTime": {
     "end_time": "2024-04-07T21:17:14.712973Z",
     "start_time": "2024-04-07T21:17:14.541606Z"
    }
   },
   "cell_type": "code",
   "source": [
    "# Plot the two histograms, with general/greedy distributions in different colors\n",
    "plt.hist(general_costs, bins=15, alpha=0.5, label='General Algorithm')\n",
    "plt.hist(greedy_costs, bins=15, alpha=0.5, label='Greedy Algorithm')\n",
    "plt.legend()\n",
    "plt.title('Distribution of Costs Incurred by General and Greedy Algorithms')\n",
    "plt.xlabel('Cost')\n",
    "plt.ylabel('Frequency')\n",
    "plt.show()"
   ],
   "id": "12564a5c052403a8",
   "outputs": [
    {
     "data": {
      "text/plain": [
       "<Figure size 640x480 with 1 Axes>"
      ],
      "image/png": "[encoded data removed]"
     },
     "metadata": {},
     "output_type": "display_data"
    }
   ],
   "execution_count": 13
  },
  {
   "metadata": {
    "ExecuteTime": {
     "end_time": "2024-04-07T21:17:26.521285Z",
     "start_time": "2024-04-07T21:17:26.497708Z"
    }
   },
   "cell_type": "code",
   "source": [
    "import numpy as np\n",
    "\n",
    "# Print 5-number summary + mean for general and greedy steps taken\n",
    "print('General Algorithm Steps Summary:')\n",
    "print('Min:', min(general_steps))\n",
    "print('Q1:', np.percentile(general_steps, 25))\n",
    "print('Median:', np.percentile(general_steps, 50))\n",
    "print('Mean:', np.mean(general_steps))\n",
    "print('Q3:', np.percentile(general_steps, 75))\n",
    "print('Max:', max(general_steps))\n",
    "\n",
    "\n",
    "print('\\nGreedy Algorithm Steps Summary:')\n",
    "print('Min:', min(greedy_steps))\n",
    "print('Q1:', np.percentile(greedy_steps, 25))\n",
    "print('Median:', np.percentile(greedy_steps, 50))\n",
    "print('Mean:', np.mean(greedy_steps))\n",
    "print('Q3:', np.percentile(greedy_steps, 75))\n",
    "print('Max:', max(greedy_steps))\n",
    "\n",
    "# Print 5-number summary + mean for general and greedy costs incurred\n",
    "print('\\nGeneral Algorithm Costs Summary:')\n",
    "print('Min:', min(general_costs))\n",
    "print('Q1:', np.percentile(general_costs, 25))\n",
    "print('Median:', np.percentile(general_costs, 50))\n",
    "print('Mean:', np.mean(general_costs))\n",
    "print('Q3:', np.percentile(general_costs, 75))\n",
    "print('Max:', max(general_costs))\n",
    "\n",
    "print('\\nGreedy Algorithm Costs Summary:')\n",
    "print('Min:', min(greedy_costs))\n",
    "print('Q1:', np.percentile(greedy_costs, 25))\n",
    "print('Median:', np.percentile(greedy_costs, 50))\n",
    "print('Mean:', np.mean(greedy_costs))\n",
    "print('Q3:', np.percentile(greedy_costs, 75))\n",
    "print('Max:', max(greedy_costs))\n"
   ],
   "id": "6e7f5d755664f12",
   "outputs": [
    {
     "name": "stdout",
     "output_type": "stream",
     "text": [
      "General Algorithm Steps Summary:\n",
      "Min: 5\n",
      "Q1: 18.0\n",
      "Median: 26.0\n",
      "Mean: 30.4623\n",
      "Q3: 37.0\n",
      "Max: 173\n",
      "\n",
      "Greedy Algorithm Steps Summary:\n",
      "Min: 5\n",
      "Q1: 20.0\n",
      "Median: 28.0\n",
      "Mean: 32.4772\n",
      "Q3: 40.0\n",
      "Max: 173\n",
      "\n",
      "General Algorithm Costs Summary:\n",
      "Min: 1\n",
      "Q1: 8.0\n",
      "Median: 10.0\n",
      "Mean: 10.0512\n",
      "Q3: 12.0\n",
      "Max: 18\n",
      "\n",
      "Greedy Algorithm Costs Summary:\n",
      "Min: 2\n",
      "Q1: 8.0\n",
      "Median: 10.0\n",
      "Mean: 10.1975\n",
      "Q3: 12.0\n",
      "Max: 19\n"
     ]
    }
   ],
   "execution_count": 14
  },
  {
   "metadata": {
    "ExecuteTime": {
     "end_time": "2024-04-07T18:28:55.941708Z",
     "start_time": "2024-04-07T18:28:55.913136Z"
    }
   },
   "cell_type": "code",
   "source": [
    "# Perform an independent 2-sample t-test to determine if the general algorithm is significantly better than the greedy algorithm in terms of steps taken\n",
    "from scipy.stats import ttest_ind\n",
    "\n",
    "alpha = 0.05\n",
    "\n",
    "# We want to check if both the number of steps and cost is lower for the general\n",
    "\n",
    "t_stat, p_val = ttest_ind(general_steps, greedy_steps, equal_var=False, alternative='less')\n",
    "print(\"Performing 2-sample t-test to compare general and greedy algorithms:\")\n",
    "print('T-Statistic:', t_stat)\n",
    "print('P-Value:', p_val)\n",
    "\n",
    "\n",
    "if p_val < alpha:\n",
    "    print('Reject the null hypothesis: The general algorithm is significantly better than the greedy algorithm.')\n",
    "else:\n",
    "    print('Fail to reject the null hypothesis: The general algorithm is not significantly better than the greedy algorithm.')\n",
    "    \n",
    "# Perform an independent 2-sample t-test to determine if the general algorithm is significantly better than the greedy algorithm in terms of costs incurred\n",
    "t_stat, p_val = ttest_ind(general_costs, greedy_costs, equal_var=False, alternative='less')\n",
    "print(\"\\nPerforming 2-sample t-test to compare general and greedy algorithms:\")\n",
    "print('T-Statistic:', t_stat)\n",
    "print('P-Value:', p_val)"
   ],
   "id": "dd94a38f57a80b04",
   "outputs": [
    {
     "name": "stdout",
     "output_type": "stream",
     "text": [
      "Performing 2-sample t-test to compare general and greedy algorithms:\n",
      "T-Statistic: -26.963914303489023\n",
      "P-Value: 3.80146655189153e-160\n",
      "Reject the null hypothesis: The general algorithm is significantly better than the greedy algorithm.\n",
      "\n",
      "Performing 2-sample t-test to compare general and greedy algorithms:\n",
      "T-Statistic: -12.844215714201036\n",
      "P-Value: 4.796951818527035e-38\n"
     ]
    }
   ],
   "execution_count": 31
  },
  {
   "metadata": {},
   "cell_type": "code",
   "outputs": [],
   "execution_count": null,
   "source": "",
   "id": "b23fd49b93cbb989"
  }
 ],
 "metadata": {
  "kernelspec": {
   "display_name": "Python 3",
   "language": "python",
   "name": "python3"
  },
  "language_info": {
   "codemirror_mode": {
    "name": "ipython",
    "version": 2
   },
   "file_extension": ".py",
   "mimetype": "text/x-python",
   "name": "python",
   "nbconvert_exporter": "python",
   "pygments_lexer": "ipython2",
   "version": "2.7.6"
  }
 },
 "nbformat": 4,
 "nbformat_minor": 5
}
