{
 "cells": [
  {
   "metadata": {},
   "cell_type": "markdown",
   "source": "# Wedding FOM Example",
   "id": "6a09a85187f304c6"
  },
  {
   "metadata": {
    "ExecuteTime": {
     "end_time": "2024-04-07T17:25:20.247201Z",
     "start_time": "2024-04-07T17:25:19.695436Z"
    }
   },
   "cell_type": "code",
   "source": [
    "import json\n",
    "from timeit import default_timer as timer\n",
    "import matplotlib.pyplot as plt\n",
    "\n",
    "from ptcr2.fom import FOM\n",
    "\n",
    "config_file = 'samples/wedding_fom.json'\n",
    "# parse file name\n",
    "file_name = config_file.split('/')[-1].split('.')[0]\n",
    "\n",
    "with open(config_file) as f:\n",
    "    spec = json.loads(f.read())\n"
   ],
   "id": "initial_id",
   "outputs": [],
   "execution_count": 1
  },
  {
   "metadata": {
    "ExecuteTime": {
     "end_time": "2024-04-07T17:19:49.436997Z",
     "start_time": "2024-04-07T17:18:22.043304Z"
    }
   },
   "cell_type": "code",
   "source": [
    "wedding_fom = FOM()\n",
    "start = timer()\n",
    "wedding_fom.compute_optimal_policy(spec)\n",
    "end = timer()\n",
    "\n",
    "print('Time elapsed to compute optimal policy: ', end - start)"
   ],
   "id": "cdb70a1e713a534d",
   "outputs": [
    {
     "data": {
      "text/plain": [
       "Formatting checks succeeded.\n"
      ],
      "text/html": [
       "<pre style=\"white-space:pre;overflow-x:auto;line-height:normal;font-family:Menlo,'DejaVu Sans Mono',consolas,'Courier New',monospace\">Formatting checks succeeded.\n",
       "</pre>\n"
      ]
     },
     "metadata": {},
     "output_type": "display_data"
    },
    {
     "data": {
      "text/plain": [
       "\u001B[3m            Transition Matrix            \u001B[0m\n",
       "┏━━━┳━━━━━┳━━━━━┳━━━━━┳━━━━━┳━━━━━┳━━━━━┓\n",
       "┃\u001B[1m \u001B[0m\u001B[1m \u001B[0m\u001B[1m \u001B[0m┃\u001B[1m \u001B[0m\u001B[1mI  \u001B[0m\u001B[1m \u001B[0m┃\u001B[1m \u001B[0m\u001B[1mE  \u001B[0m\u001B[1m \u001B[0m┃\u001B[1m \u001B[0m\u001B[1mB  \u001B[0m\u001B[1m \u001B[0m┃\u001B[1m \u001B[0m\u001B[1mC  \u001B[0m\u001B[1m \u001B[0m┃\u001B[1m \u001B[0m\u001B[1mD  \u001B[0m\u001B[1m \u001B[0m┃\u001B[1m \u001B[0m\u001B[1mS  \u001B[0m\u001B[1m \u001B[0m┃\n",
       "┡━━━╇━━━━━╇━━━━━╇━━━━━╇━━━━━╇━━━━━╇━━━━━┩\n",
       "│ I │ 0.0 │ 0.1 │ 0.3 │ 0.1 │ 0.2 │ 0.3 │\n",
       "│ E │ 0.0 │ 0.1 │ 0.2 │ 0.1 │ 0.3 │ 0.3 │\n",
       "│ B │ 0.0 │ 0.2 │ 0.1 │ 0.1 │ 0.3 │ 0.3 │\n",
       "│ C │ 0.0 │ 0.1 │ 0.2 │ 0.2 │ 0.3 │ 0.2 │\n",
       "│ D │ 0.0 │ 0.2 │ 0.3 │ 0.1 │ 0.1 │ 0.3 │\n",
       "│ S │ 0.0 │ 0.4 │ 0.2 │ 0.2 │ 0.2 │ 0.0 │\n",
       "└───┴─────┴─────┴─────┴─────┴─────┴─────┘\n"
      ],
      "text/html": [
       "<pre style=\"white-space:pre;overflow-x:auto;line-height:normal;font-family:Menlo,'DejaVu Sans Mono',consolas,'Courier New',monospace\"><span style=\"font-style: italic\">            Transition Matrix            </span>\n",
       "┏━━━┳━━━━━┳━━━━━┳━━━━━┳━━━━━┳━━━━━┳━━━━━┓\n",
       "┃<span style=\"font-weight: bold\">   </span>┃<span style=\"font-weight: bold\"> I   </span>┃<span style=\"font-weight: bold\"> E   </span>┃<span style=\"font-weight: bold\"> B   </span>┃<span style=\"font-weight: bold\"> C   </span>┃<span style=\"font-weight: bold\"> D   </span>┃<span style=\"font-weight: bold\"> S   </span>┃\n",
       "┡━━━╇━━━━━╇━━━━━╇━━━━━╇━━━━━╇━━━━━╇━━━━━┩\n",
       "│ I │ 0.0 │ 0.1 │ 0.3 │ 0.1 │ 0.2 │ 0.3 │\n",
       "│ E │ 0.0 │ 0.1 │ 0.2 │ 0.1 │ 0.3 │ 0.3 │\n",
       "│ B │ 0.0 │ 0.2 │ 0.1 │ 0.1 │ 0.3 │ 0.3 │\n",
       "│ C │ 0.0 │ 0.1 │ 0.2 │ 0.2 │ 0.3 │ 0.2 │\n",
       "│ D │ 0.0 │ 0.2 │ 0.3 │ 0.1 │ 0.1 │ 0.3 │\n",
       "│ S │ 0.0 │ 0.4 │ 0.2 │ 0.2 │ 0.2 │ 0.0 │\n",
       "└───┴─────┴─────┴─────┴─────┴─────┴─────┘\n",
       "</pre>\n"
      ]
     },
     "metadata": {},
     "output_type": "display_data"
    },
    {
     "data": {
      "text/plain": [
       "\u001B[3m        Initial Distribution         \u001B[0m\n",
       "┏━━━━━┳━━━━━┳━━━━━┳━━━━━┳━━━━━┳━━━━━┓\n",
       "┃\u001B[1m \u001B[0m\u001B[1mI  \u001B[0m\u001B[1m \u001B[0m┃\u001B[1m \u001B[0m\u001B[1mE  \u001B[0m\u001B[1m \u001B[0m┃\u001B[1m \u001B[0m\u001B[1mB  \u001B[0m\u001B[1m \u001B[0m┃\u001B[1m \u001B[0m\u001B[1mC  \u001B[0m\u001B[1m \u001B[0m┃\u001B[1m \u001B[0m\u001B[1mD  \u001B[0m\u001B[1m \u001B[0m┃\u001B[1m \u001B[0m\u001B[1mS  \u001B[0m\u001B[1m \u001B[0m┃\n",
       "┡━━━━━╇━━━━━╇━━━━━╇━━━━━╇━━━━━╇━━━━━┩\n",
       "│ 0.0 │ 0.1 │ 0.3 │ 0.2 │ 0.2 │ 0.2 │\n",
       "└─────┴─────┴─────┴─────┴─────┴─────┘\n"
      ],
      "text/html": [
       "<pre style=\"white-space:pre;overflow-x:auto;line-height:normal;font-family:Menlo,'DejaVu Sans Mono',consolas,'Courier New',monospace\"><span style=\"font-style: italic\">        Initial Distribution         </span>\n",
       "┏━━━━━┳━━━━━┳━━━━━┳━━━━━┳━━━━━┳━━━━━┓\n",
       "┃<span style=\"font-weight: bold\"> I   </span>┃<span style=\"font-weight: bold\"> E   </span>┃<span style=\"font-weight: bold\"> B   </span>┃<span style=\"font-weight: bold\"> C   </span>┃<span style=\"font-weight: bold\"> D   </span>┃<span style=\"font-weight: bold\"> S   </span>┃\n",
       "┡━━━━━╇━━━━━╇━━━━━╇━━━━━╇━━━━━╇━━━━━┩\n",
       "│ 0.0 │ 0.1 │ 0.3 │ 0.2 │ 0.2 │ 0.2 │\n",
       "└─────┴─────┴─────┴─────┴─────┴─────┘\n",
       "</pre>\n"
      ]
     },
     "metadata": {},
     "output_type": "display_data"
    },
    {
     "data": {
      "text/plain": [
       "\u001B[3m         Cost Matrix         \u001B[0m\n",
       "┏━━━┳━━━┳━━━┳━━━┳━━━┳━━━┳━━━┓\n",
       "┃\u001B[1m \u001B[0m\u001B[1m \u001B[0m\u001B[1m \u001B[0m┃\u001B[1m \u001B[0m\u001B[1mI\u001B[0m\u001B[1m \u001B[0m┃\u001B[1m \u001B[0m\u001B[1mE\u001B[0m\u001B[1m \u001B[0m┃\u001B[1m \u001B[0m\u001B[1mB\u001B[0m\u001B[1m \u001B[0m┃\u001B[1m \u001B[0m\u001B[1mC\u001B[0m\u001B[1m \u001B[0m┃\u001B[1m \u001B[0m\u001B[1mD\u001B[0m\u001B[1m \u001B[0m┃\u001B[1m \u001B[0m\u001B[1mS\u001B[0m\u001B[1m \u001B[0m┃\n",
       "┡━━━╇━━━╇━━━╇━━━╇━━━╇━━━╇━━━┩\n",
       "│ I │ 0 │ 1 │ 2 │ 3 │ 4 │ 5 │\n",
       "│ E │ 1 │ 0 │ 1 │ 2 │ 3 │ 4 │\n",
       "│ B │ 2 │ 1 │ 0 │ 1 │ 2 │ 3 │\n",
       "│ C │ 3 │ 2 │ 1 │ 0 │ 1 │ 2 │\n",
       "│ D │ 4 │ 3 │ 2 │ 1 │ 0 │ 1 │\n",
       "│ S │ 5 │ 4 │ 3 │ 2 │ 1 │ 0 │\n",
       "└───┴───┴───┴───┴───┴───┴───┘\n"
      ],
      "text/html": [
       "<pre style=\"white-space:pre;overflow-x:auto;line-height:normal;font-family:Menlo,'DejaVu Sans Mono',consolas,'Courier New',monospace\"><span style=\"font-style: italic\">         Cost Matrix         </span>\n",
       "┏━━━┳━━━┳━━━┳━━━┳━━━┳━━━┳━━━┓\n",
       "┃<span style=\"font-weight: bold\">   </span>┃<span style=\"font-weight: bold\"> I </span>┃<span style=\"font-weight: bold\"> E </span>┃<span style=\"font-weight: bold\"> B </span>┃<span style=\"font-weight: bold\"> C </span>┃<span style=\"font-weight: bold\"> D </span>┃<span style=\"font-weight: bold\"> S </span>┃\n",
       "┡━━━╇━━━╇━━━╇━━━╇━━━╇━━━╇━━━┩\n",
       "│ I │ 0 │ 1 │ 2 │ 3 │ 4 │ 5 │\n",
       "│ E │ 1 │ 0 │ 1 │ 2 │ 3 │ 4 │\n",
       "│ B │ 2 │ 1 │ 0 │ 1 │ 2 │ 3 │\n",
       "│ C │ 3 │ 2 │ 1 │ 0 │ 1 │ 2 │\n",
       "│ D │ 4 │ 3 │ 2 │ 1 │ 0 │ 1 │\n",
       "│ S │ 5 │ 4 │ 3 │ 2 │ 1 │ 0 │\n",
       "└───┴───┴───┴───┴───┴───┴───┘\n",
       "</pre>\n"
      ]
     },
     "metadata": {},
     "output_type": "display_data"
    },
    {
     "data": {
      "text/plain": [
       "\u001B[3mAlphabet \u001B[0m\n",
       "┏━━━━━━━┓\n",
       "┃\u001B[1m \u001B[0m\u001B[1mItems\u001B[0m\u001B[1m \u001B[0m┃\n",
       "┡━━━━━━━┩\n",
       "│ d1    │\n",
       "│ c1    │\n",
       "│ s1    │\n",
       "│ c3    │\n",
       "│ c2    │\n",
       "│ b3    │\n",
       "│ e2    │\n",
       "│ d3    │\n",
       "│ s2    │\n",
       "│ e1    │\n",
       "│ d2    │\n",
       "│ d23   │\n",
       "│ b1    │\n",
       "│ s3    │\n",
       "│ d12   │\n",
       "│ b2    │\n",
       "│ e3    │\n",
       "└───────┘\n"
      ],
      "text/html": [
       "<pre style=\"white-space:pre;overflow-x:auto;line-height:normal;font-family:Menlo,'DejaVu Sans Mono',consolas,'Courier New',monospace\"><span style=\"font-style: italic\">Alphabet </span>\n",
       "┏━━━━━━━┓\n",
       "┃<span style=\"font-weight: bold\"> Items </span>┃\n",
       "┡━━━━━━━┩\n",
       "│ d1    │\n",
       "│ c1    │\n",
       "│ s1    │\n",
       "│ c3    │\n",
       "│ c2    │\n",
       "│ b3    │\n",
       "│ e2    │\n",
       "│ d3    │\n",
       "│ s2    │\n",
       "│ e1    │\n",
       "│ d2    │\n",
       "│ d23   │\n",
       "│ b1    │\n",
       "│ s3    │\n",
       "│ d12   │\n",
       "│ b2    │\n",
       "│ e3    │\n",
       "└───────┘\n",
       "</pre>\n"
      ]
     },
     "metadata": {},
     "output_type": "display_data"
    },
    {
     "data": {
      "text/plain": [
       "Single initial state \u001B[1;36m0\u001B[0m:\n",
       "\u001B[1m[\u001B[0m\u001B[1m[\u001B[0m\u001B[1m(\u001B[0m\u001B[32m'd1'\u001B[0m, \u001B[32m'd2'\u001B[0m\u001B[1m)\u001B[0m, \u001B[32m'd12'\u001B[0m\u001B[1m]\u001B[0m\u001B[1m]\u001B[0m\n"
      ],
      "text/html": [
       "<pre style=\"white-space:pre;overflow-x:auto;line-height:normal;font-family:Menlo,'DejaVu Sans Mono',consolas,'Courier New',monospace\">Single initial state <span style=\"color: #008080; text-decoration-color: #008080; font-weight: bold\">0</span>:\n",
       "<span style=\"font-weight: bold\">[[(</span><span style=\"color: #008000; text-decoration-color: #008000\">'d1'</span>, <span style=\"color: #008000; text-decoration-color: #008000\">'d2'</span><span style=\"font-weight: bold\">)</span>, <span style=\"color: #008000; text-decoration-color: #008000\">'d12'</span><span style=\"font-weight: bold\">]]</span>\n",
       "</pre>\n"
      ]
     },
     "metadata": {},
     "output_type": "display_data"
    },
    {
     "data": {
      "text/plain": [
       "Single initial state \u001B[1;36m1\u001B[0m:\n",
       "\u001B[1m[\u001B[0m\u001B[1m[\u001B[0m\u001B[1m(\u001B[0m\u001B[32m'd2'\u001B[0m, \u001B[32m'd3'\u001B[0m\u001B[1m)\u001B[0m, \u001B[32m'd23'\u001B[0m\u001B[1m]\u001B[0m\u001B[1m]\u001B[0m\n"
      ],
      "text/html": [
       "<pre style=\"white-space:pre;overflow-x:auto;line-height:normal;font-family:Menlo,'DejaVu Sans Mono',consolas,'Courier New',monospace\">Single initial state <span style=\"color: #008080; text-decoration-color: #008080; font-weight: bold\">1</span>:\n",
       "<span style=\"font-weight: bold\">[[(</span><span style=\"color: #008000; text-decoration-color: #008000\">'d2'</span>, <span style=\"color: #008000; text-decoration-color: #008000\">'d3'</span><span style=\"font-weight: bold\">)</span>, <span style=\"color: #008000; text-decoration-color: #008000\">'d23'</span><span style=\"font-weight: bold\">]]</span>\n",
       "</pre>\n"
      ]
     },
     "metadata": {},
     "output_type": "display_data"
    },
    {
     "name": "stdout",
     "output_type": "stream",
     "text": [
      "Unreachable state have been recognized\n",
      "Start checking transitions to remove\n",
      "Number of transitions: 2587213\n",
      "End checking transitions to remove\n",
      "Start removing unreachable transitions\n",
      "End removing unreachable transitions\n",
      "Start removing unreachable states\n",
      "End removing unreachable states\n",
      "Start reindexing states\n",
      "End reindexing states\n",
      "Number of unreachable states removed = 0\n",
      "Number of unreachable transitions removed = 0\n",
      "Time elapsed to compute optimal policy:  87.3852401\n"
     ]
    }
   ],
   "execution_count": 2
  },
  {
   "metadata": {
    "ExecuteTime": {
     "end_time": "2024-04-07T17:23:08.917823Z",
     "start_time": "2024-04-07T17:23:05.493676Z"
    }
   },
   "cell_type": "code",
   "source": [
    "import time\n",
    "import pickle\n",
    "import os\n",
    "import sys\n",
    "\n",
    "sys.setrecursionlimit(10_000)  # Will probably fail if regular\n",
    "\n",
    "current_time = time.strftime(\"%Y-%m-%d-%H-%M-%S\")\n",
    "\n",
    "if not os.path.exists('saves'):\n",
    "    os.makedirs('saves')\n",
    "\n",
    "# Store the wedding_fom object to /saves for faster loads\n",
    "with open(f'saves/{file_name}_{current_time}.pkl', 'wb') as f:\n",
    "    pickle.dump(wedding_fom, f)"
   ],
   "id": "25b56da04e5f738b",
   "outputs": [],
   "execution_count": 7
  },
  {
   "metadata": {
    "ExecuteTime": {
     "end_time": "2024-04-07T17:25:47.621743Z",
     "start_time": "2024-04-07T17:25:39.796617Z"
    }
   },
   "cell_type": "code",
   "source": [
    "import pickle\n",
    "import os\n",
    "# open the latest save file. Note that when running, current_time might not exist, so grab files first and pick the latest to load\n",
    "files = os.listdir('saves')\n",
    "files = [f for f in files if f.startswith(file_name)]\n",
    "files.sort()\n",
    "latest_file = files[-1]\n",
    "\n",
    "# This assumes that only wedding_fom objects are stored in the saves folder.\n",
    "\n",
    "with open(f'saves/{latest_file}', 'rb') as f:\n",
    "    wedding_fom = pickle.load(f)"
   ],
   "id": "bf87cd289a86321",
   "outputs": [],
   "execution_count": 2
  },
  {
   "metadata": {
    "ExecuteTime": {
     "end_time": "2024-04-07T17:25:49.350763Z",
     "start_time": "2024-04-07T17:25:49.196367Z"
    }
   },
   "cell_type": "code",
   "source": [
    "plt.title('Difference Measured While Computing Optimal Policy')\n",
    "plt.xlabel('Iteration')\n",
    "plt.ylabel('Difference')\n",
    "plt.plot(wedding_fom.computed_policy['diff_tracker'], 'g', label='Run')\n",
    "plt.axhline(wedding_fom.epsilon, linestyle='--', color='r', label='Epsilon of Convergence')\n",
    "plt.legend()"
   ],
   "id": "7689e6d6f41d67cc",
   "outputs": [
    {
     "data": {
      "text/plain": [
       "<matplotlib.legend.Legend at 0x22d2fc48b50>"
      ]
     },
     "execution_count": 3,
     "metadata": {},
     "output_type": "execute_result"
    },
    {
     "data": {
      "text/plain": [
       "<Figure size 640x480 with 1 Axes>"
      ],
      "image/png": "[encoded data removed]"
     },
     "metadata": {},
     "output_type": "display_data"
    }
   ],
   "execution_count": 3
  },
  {
   "metadata": {
    "ExecuteTime": {
     "end_time": "2024-04-07T17:19:49.593091Z",
     "start_time": "2024-04-07T17:19:49.578001Z"
    }
   },
   "cell_type": "code",
   "source": [
    "results = wedding_fom.simulate_general_and_greedy_algorithms()  # Spec not needed since we're computing optimal policy separately\n",
    "\n",
    "print(results)"
   ],
   "id": "34a73d16015329bc",
   "outputs": [
    {
     "name": "stdout",
     "output_type": "stream",
     "text": [
      "{'general_algorithm': {'steps': 11, 'story': 'd2s3d12s3c3', 'total_cost': 0}, 'greedy_algorithm': {'steps': 32, 'story': 's3d2s3c3d12', 'total_cost': 0}}\n"
     ]
    }
   ],
   "execution_count": 4
  },
  {
   "metadata": {
    "ExecuteTime": {
     "end_time": "2024-04-07T17:19:49.608480Z",
     "start_time": "2024-04-07T17:19:49.595976Z"
    }
   },
   "cell_type": "code",
   "source": "",
   "id": "132be26620ee01bf",
   "outputs": [],
   "execution_count": 4
  }
 ],
 "metadata": {
  "kernelspec": {
   "display_name": "Python 3",
   "language": "python",
   "name": "python3"
  },
  "language_info": {
   "codemirror_mode": {
    "name": "ipython",
    "version": 2
   },
   "file_extension": ".py",
   "mimetype": "text/x-python",
   "name": "python",
   "nbconvert_exporter": "python",
   "pygments_lexer": "ipython2",
   "version": "2.7.6"
  }
 },
 "nbformat": 4,
 "nbformat_minor": 5
}
