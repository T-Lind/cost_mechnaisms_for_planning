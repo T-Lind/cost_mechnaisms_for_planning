{
 "cells": [
  {
   "metadata": {},
   "cell_type": "markdown",
   "source": [
    "# Wedding FOM Example\n",
    "T-Lind"
   ],
   "id": "6a09a85187f304c6"
  },
  {
   "metadata": {},
   "cell_type": "markdown",
   "source": "Uses a configuration file found in the samples directory to compute the optimal policy for the wedding example.",
   "id": "280fa92737bb59ab"
  },
  {
   "metadata": {
    "ExecuteTime": {
     "end_time": "2024-04-07T17:47:19.775417Z",
     "start_time": "2024-04-07T17:47:19.316014Z"
    }
   },
   "cell_type": "code",
   "source": [
    "import json\n",
    "from timeit import default_timer as timer\n",
    "import matplotlib.pyplot as plt\n",
    "\n",
    "from ptcr2.fom import FOM\n",
    "\n",
    "config_file = 'samples/wedding_fom.json'\n",
    "# parse file name\n",
    "file_name = config_file.split('/')[-1].split('.')[0]\n",
    "\n",
    "with open(config_file) as f:\n",
    "    spec = json.loads(f.read())\n"
   ],
   "id": "initial_id",
   "outputs": [],
   "execution_count": 1
  },
  {
   "metadata": {},
   "cell_type": "markdown",
   "source": "Computes the optimal policy. Prints out the time taken to compute the optimal policy as well as the configuration file used.",
   "id": "deb76197ec54195b"
  },
  {
   "metadata": {
    "ExecuteTime": {
     "end_time": "2024-04-07T17:48:47.135676Z",
     "start_time": "2024-04-07T17:47:19.777422Z"
    }
   },
   "cell_type": "code",
   "source": [
    "wedding_fom = FOM()\n",
    "start = timer()\n",
    "wedding_fom.compute_optimal_policy(spec)\n",
    "end = timer()\n",
    "\n",
    "print('Time elapsed to compute optimal policy: ', end - start)"
   ],
   "id": "cdb70a1e713a534d",
   "outputs": [
    {
     "data": {
      "text/plain": [
       "Formatting checks succeeded.\n"
      ],
      "text/html": [
       "<pre style=\"white-space:pre;overflow-x:auto;line-height:normal;font-family:Menlo,'DejaVu Sans Mono',consolas,'Courier New',monospace\">Formatting checks succeeded.\n",
       "</pre>\n"
      ]
     },
     "metadata": {},
     "output_type": "display_data"
    },
    {
     "data": {
      "text/plain": [
       "\u001B[3m            Transition Matrix            \u001B[0m\n",
       "┏━━━┳━━━━━┳━━━━━┳━━━━━┳━━━━━┳━━━━━┳━━━━━┓\n",
       "┃\u001B[1m \u001B[0m\u001B[1m \u001B[0m\u001B[1m \u001B[0m┃\u001B[1m \u001B[0m\u001B[1mI  \u001B[0m\u001B[1m \u001B[0m┃\u001B[1m \u001B[0m\u001B[1mE  \u001B[0m\u001B[1m \u001B[0m┃\u001B[1m \u001B[0m\u001B[1mB  \u001B[0m\u001B[1m \u001B[0m┃\u001B[1m \u001B[0m\u001B[1mC  \u001B[0m\u001B[1m \u001B[0m┃\u001B[1m \u001B[0m\u001B[1mD  \u001B[0m\u001B[1m \u001B[0m┃\u001B[1m \u001B[0m\u001B[1mS  \u001B[0m\u001B[1m \u001B[0m┃\n",
       "┡━━━╇━━━━━╇━━━━━╇━━━━━╇━━━━━╇━━━━━╇━━━━━┩\n",
       "│ I │ 0.0 │ 0.1 │ 0.3 │ 0.1 │ 0.2 │ 0.3 │\n",
       "│ E │ 0.0 │ 0.1 │ 0.2 │ 0.1 │ 0.3 │ 0.3 │\n",
       "│ B │ 0.0 │ 0.2 │ 0.1 │ 0.1 │ 0.3 │ 0.3 │\n",
       "│ C │ 0.0 │ 0.1 │ 0.2 │ 0.2 │ 0.3 │ 0.2 │\n",
       "│ D │ 0.0 │ 0.2 │ 0.3 │ 0.1 │ 0.1 │ 0.3 │\n",
       "│ S │ 0.0 │ 0.4 │ 0.2 │ 0.2 │ 0.2 │ 0.0 │\n",
       "└───┴─────┴─────┴─────┴─────┴─────┴─────┘\n"
      ],
      "text/html": [
       "<pre style=\"white-space:pre;overflow-x:auto;line-height:normal;font-family:Menlo,'DejaVu Sans Mono',consolas,'Courier New',monospace\"><span style=\"font-style: italic\">            Transition Matrix            </span>\n",
       "┏━━━┳━━━━━┳━━━━━┳━━━━━┳━━━━━┳━━━━━┳━━━━━┓\n",
       "┃<span style=\"font-weight: bold\">   </span>┃<span style=\"font-weight: bold\"> I   </span>┃<span style=\"font-weight: bold\"> E   </span>┃<span style=\"font-weight: bold\"> B   </span>┃<span style=\"font-weight: bold\"> C   </span>┃<span style=\"font-weight: bold\"> D   </span>┃<span style=\"font-weight: bold\"> S   </span>┃\n",
       "┡━━━╇━━━━━╇━━━━━╇━━━━━╇━━━━━╇━━━━━╇━━━━━┩\n",
       "│ I │ 0.0 │ 0.1 │ 0.3 │ 0.1 │ 0.2 │ 0.3 │\n",
       "│ E │ 0.0 │ 0.1 │ 0.2 │ 0.1 │ 0.3 │ 0.3 │\n",
       "│ B │ 0.0 │ 0.2 │ 0.1 │ 0.1 │ 0.3 │ 0.3 │\n",
       "│ C │ 0.0 │ 0.1 │ 0.2 │ 0.2 │ 0.3 │ 0.2 │\n",
       "│ D │ 0.0 │ 0.2 │ 0.3 │ 0.1 │ 0.1 │ 0.3 │\n",
       "│ S │ 0.0 │ 0.4 │ 0.2 │ 0.2 │ 0.2 │ 0.0 │\n",
       "└───┴─────┴─────┴─────┴─────┴─────┴─────┘\n",
       "</pre>\n"
      ]
     },
     "metadata": {},
     "output_type": "display_data"
    },
    {
     "data": {
      "text/plain": [
       "\u001B[3m        Initial Distribution         \u001B[0m\n",
       "┏━━━━━┳━━━━━┳━━━━━┳━━━━━┳━━━━━┳━━━━━┓\n",
       "┃\u001B[1m \u001B[0m\u001B[1mI  \u001B[0m\u001B[1m \u001B[0m┃\u001B[1m \u001B[0m\u001B[1mE  \u001B[0m\u001B[1m \u001B[0m┃\u001B[1m \u001B[0m\u001B[1mB  \u001B[0m\u001B[1m \u001B[0m┃\u001B[1m \u001B[0m\u001B[1mC  \u001B[0m\u001B[1m \u001B[0m┃\u001B[1m \u001B[0m\u001B[1mD  \u001B[0m\u001B[1m \u001B[0m┃\u001B[1m \u001B[0m\u001B[1mS  \u001B[0m\u001B[1m \u001B[0m┃\n",
       "┡━━━━━╇━━━━━╇━━━━━╇━━━━━╇━━━━━╇━━━━━┩\n",
       "│ 0.0 │ 0.1 │ 0.3 │ 0.2 │ 0.2 │ 0.2 │\n",
       "└─────┴─────┴─────┴─────┴─────┴─────┘\n"
      ],
      "text/html": [
       "<pre style=\"white-space:pre;overflow-x:auto;line-height:normal;font-family:Menlo,'DejaVu Sans Mono',consolas,'Courier New',monospace\"><span style=\"font-style: italic\">        Initial Distribution         </span>\n",
       "┏━━━━━┳━━━━━┳━━━━━┳━━━━━┳━━━━━┳━━━━━┓\n",
       "┃<span style=\"font-weight: bold\"> I   </span>┃<span style=\"font-weight: bold\"> E   </span>┃<span style=\"font-weight: bold\"> B   </span>┃<span style=\"font-weight: bold\"> C   </span>┃<span style=\"font-weight: bold\"> D   </span>┃<span style=\"font-weight: bold\"> S   </span>┃\n",
       "┡━━━━━╇━━━━━╇━━━━━╇━━━━━╇━━━━━╇━━━━━┩\n",
       "│ 0.0 │ 0.1 │ 0.3 │ 0.2 │ 0.2 │ 0.2 │\n",
       "└─────┴─────┴─────┴─────┴─────┴─────┘\n",
       "</pre>\n"
      ]
     },
     "metadata": {},
     "output_type": "display_data"
    },
    {
     "data": {
      "text/plain": [
       "\u001B[3m         Cost Matrix         \u001B[0m\n",
       "┏━━━┳━━━┳━━━┳━━━┳━━━┳━━━┳━━━┓\n",
       "┃\u001B[1m \u001B[0m\u001B[1m \u001B[0m\u001B[1m \u001B[0m┃\u001B[1m \u001B[0m\u001B[1mI\u001B[0m\u001B[1m \u001B[0m┃\u001B[1m \u001B[0m\u001B[1mE\u001B[0m\u001B[1m \u001B[0m┃\u001B[1m \u001B[0m\u001B[1mB\u001B[0m\u001B[1m \u001B[0m┃\u001B[1m \u001B[0m\u001B[1mC\u001B[0m\u001B[1m \u001B[0m┃\u001B[1m \u001B[0m\u001B[1mD\u001B[0m\u001B[1m \u001B[0m┃\u001B[1m \u001B[0m\u001B[1mS\u001B[0m\u001B[1m \u001B[0m┃\n",
       "┡━━━╇━━━╇━━━╇━━━╇━━━╇━━━╇━━━┩\n",
       "│ I │ 0 │ 1 │ 2 │ 3 │ 4 │ 5 │\n",
       "│ E │ 1 │ 0 │ 1 │ 2 │ 3 │ 4 │\n",
       "│ B │ 2 │ 1 │ 0 │ 1 │ 2 │ 3 │\n",
       "│ C │ 3 │ 2 │ 1 │ 0 │ 1 │ 2 │\n",
       "│ D │ 4 │ 3 │ 2 │ 1 │ 0 │ 1 │\n",
       "│ S │ 5 │ 4 │ 3 │ 2 │ 1 │ 0 │\n",
       "└───┴───┴───┴───┴───┴───┴───┘\n"
      ],
      "text/html": [
       "<pre style=\"white-space:pre;overflow-x:auto;line-height:normal;font-family:Menlo,'DejaVu Sans Mono',consolas,'Courier New',monospace\"><span style=\"font-style: italic\">         Cost Matrix         </span>\n",
       "┏━━━┳━━━┳━━━┳━━━┳━━━┳━━━┳━━━┓\n",
       "┃<span style=\"font-weight: bold\">   </span>┃<span style=\"font-weight: bold\"> I </span>┃<span style=\"font-weight: bold\"> E </span>┃<span style=\"font-weight: bold\"> B </span>┃<span style=\"font-weight: bold\"> C </span>┃<span style=\"font-weight: bold\"> D </span>┃<span style=\"font-weight: bold\"> S </span>┃\n",
       "┡━━━╇━━━╇━━━╇━━━╇━━━╇━━━╇━━━┩\n",
       "│ I │ 0 │ 1 │ 2 │ 3 │ 4 │ 5 │\n",
       "│ E │ 1 │ 0 │ 1 │ 2 │ 3 │ 4 │\n",
       "│ B │ 2 │ 1 │ 0 │ 1 │ 2 │ 3 │\n",
       "│ C │ 3 │ 2 │ 1 │ 0 │ 1 │ 2 │\n",
       "│ D │ 4 │ 3 │ 2 │ 1 │ 0 │ 1 │\n",
       "│ S │ 5 │ 4 │ 3 │ 2 │ 1 │ 0 │\n",
       "└───┴───┴───┴───┴───┴───┴───┘\n",
       "</pre>\n"
      ]
     },
     "metadata": {},
     "output_type": "display_data"
    },
    {
     "data": {
      "text/plain": [
       "\u001B[3mAlphabet \u001B[0m\n",
       "┏━━━━━━━┓\n",
       "┃\u001B[1m \u001B[0m\u001B[1mItems\u001B[0m\u001B[1m \u001B[0m┃\n",
       "┡━━━━━━━┩\n",
       "│ s3    │\n",
       "│ d2    │\n",
       "│ b1    │\n",
       "│ d12   │\n",
       "│ d3    │\n",
       "│ d23   │\n",
       "│ b2    │\n",
       "│ b3    │\n",
       "│ c2    │\n",
       "│ d1    │\n",
       "│ e2    │\n",
       "│ s2    │\n",
       "│ s1    │\n",
       "│ c1    │\n",
       "│ c3    │\n",
       "│ e3    │\n",
       "│ e1    │\n",
       "└───────┘\n"
      ],
      "text/html": [
       "<pre style=\"white-space:pre;overflow-x:auto;line-height:normal;font-family:Menlo,'DejaVu Sans Mono',consolas,'Courier New',monospace\"><span style=\"font-style: italic\">Alphabet </span>\n",
       "┏━━━━━━━┓\n",
       "┃<span style=\"font-weight: bold\"> Items </span>┃\n",
       "┡━━━━━━━┩\n",
       "│ s3    │\n",
       "│ d2    │\n",
       "│ b1    │\n",
       "│ d12   │\n",
       "│ d3    │\n",
       "│ d23   │\n",
       "│ b2    │\n",
       "│ b3    │\n",
       "│ c2    │\n",
       "│ d1    │\n",
       "│ e2    │\n",
       "│ s2    │\n",
       "│ s1    │\n",
       "│ c1    │\n",
       "│ c3    │\n",
       "│ e3    │\n",
       "│ e1    │\n",
       "└───────┘\n",
       "</pre>\n"
      ]
     },
     "metadata": {},
     "output_type": "display_data"
    },
    {
     "data": {
      "text/plain": [
       "Single initial state \u001B[1;36m0\u001B[0m:\n",
       "\u001B[1m[\u001B[0m\u001B[1m[\u001B[0m\u001B[1m(\u001B[0m\u001B[32m'd1'\u001B[0m, \u001B[32m'd2'\u001B[0m\u001B[1m)\u001B[0m, \u001B[32m'd12'\u001B[0m\u001B[1m]\u001B[0m\u001B[1m]\u001B[0m\n"
      ],
      "text/html": [
       "<pre style=\"white-space:pre;overflow-x:auto;line-height:normal;font-family:Menlo,'DejaVu Sans Mono',consolas,'Courier New',monospace\">Single initial state <span style=\"color: #008080; text-decoration-color: #008080; font-weight: bold\">0</span>:\n",
       "<span style=\"font-weight: bold\">[[(</span><span style=\"color: #008000; text-decoration-color: #008000\">'d1'</span>, <span style=\"color: #008000; text-decoration-color: #008000\">'d2'</span><span style=\"font-weight: bold\">)</span>, <span style=\"color: #008000; text-decoration-color: #008000\">'d12'</span><span style=\"font-weight: bold\">]]</span>\n",
       "</pre>\n"
      ]
     },
     "metadata": {},
     "output_type": "display_data"
    },
    {
     "data": {
      "text/plain": [
       "Single initial state \u001B[1;36m1\u001B[0m:\n",
       "\u001B[1m[\u001B[0m\u001B[1m[\u001B[0m\u001B[1m(\u001B[0m\u001B[32m'd2'\u001B[0m, \u001B[32m'd3'\u001B[0m\u001B[1m)\u001B[0m, \u001B[32m'd23'\u001B[0m\u001B[1m]\u001B[0m\u001B[1m]\u001B[0m\n"
      ],
      "text/html": [
       "<pre style=\"white-space:pre;overflow-x:auto;line-height:normal;font-family:Menlo,'DejaVu Sans Mono',consolas,'Courier New',monospace\">Single initial state <span style=\"color: #008080; text-decoration-color: #008080; font-weight: bold\">1</span>:\n",
       "<span style=\"font-weight: bold\">[[(</span><span style=\"color: #008000; text-decoration-color: #008000\">'d2'</span>, <span style=\"color: #008000; text-decoration-color: #008000\">'d3'</span><span style=\"font-weight: bold\">)</span>, <span style=\"color: #008000; text-decoration-color: #008000\">'d23'</span><span style=\"font-weight: bold\">]]</span>\n",
       "</pre>\n"
      ]
     },
     "metadata": {},
     "output_type": "display_data"
    },
    {
     "name": "stdout",
     "output_type": "stream",
     "text": [
      "Adding v0 =  8_I_I_I\n",
      "Unreachable state have been recognized\n",
      "Start checking transitions to remove\n",
      "Number of transitions: 2587213\n",
      "End checking transitions to remove\n",
      "Start removing unreachable transitions\n",
      "End removing unreachable transitions\n",
      "Start removing unreachable states\n",
      "End removing unreachable states\n",
      "Start reindexing states\n",
      "End reindexing states\n",
      "Number of unreachable states removed = 0\n",
      "Number of unreachable transitions removed = 0\n",
      "Time elapsed to compute optimal policy:  87.3408843\n"
     ]
    }
   ],
   "execution_count": 2
  },
  {
   "metadata": {},
   "cell_type": "markdown",
   "source": "Saving the model that was generated to a file. This will allow for faster loading in the future.",
   "id": "b4b54eb77c75391e"
  },
  {
   "metadata": {
    "ExecuteTime": {
     "end_time": "2024-04-07T17:48:47.384939Z",
     "start_time": "2024-04-07T17:48:47.138709Z"
    }
   },
   "cell_type": "code",
   "source": [
    "fom_save_file_name = wedding_fom.save()\n",
    "print('Model saved to: ', fom_save_file_name)"
   ],
   "id": "25b56da04e5f738b",
   "outputs": [
    {
     "ename": "OSError",
     "evalue": "[Errno 22] Invalid argument: 'saves/C:\\\\Users\\\\tenant\\\\PycharmProjects\\\\cost_mechanisms_for_planning\\\\ptcr2\\\\fom.py_20240407-124847.pkl'",
     "output_type": "error",
     "traceback": [
      "\u001B[1;31m---------------------------------------------------------------------------\u001B[0m",
      "\u001B[1;31mOSError\u001B[0m                                   Traceback (most recent call last)",
      "Cell \u001B[1;32mIn[3], line 1\u001B[0m\n\u001B[1;32m----> 1\u001B[0m fom_save_file_name \u001B[38;5;241m=\u001B[39m \u001B[43mwedding_fom\u001B[49m\u001B[38;5;241;43m.\u001B[39;49m\u001B[43msave\u001B[49m\u001B[43m(\u001B[49m\u001B[43m)\u001B[49m\n\u001B[0;32m      2\u001B[0m \u001B[38;5;28mprint\u001B[39m(\u001B[38;5;124m'\u001B[39m\u001B[38;5;124mModel saved to: \u001B[39m\u001B[38;5;124m'\u001B[39m, fom_save_file_name)\n",
      "File \u001B[1;32m~\\PycharmProjects\\cost_mechanisms_for_planning\\ptcr2\\fom.py:260\u001B[0m, in \u001B[0;36mFOM.save\u001B[1;34m(self, filename)\u001B[0m\n\u001B[0;32m    256\u001B[0m         os\u001B[38;5;241m.\u001B[39mmakedirs(\u001B[38;5;124m\"\u001B[39m\u001B[38;5;124msaves\u001B[39m\u001B[38;5;124m\"\u001B[39m)\n\u001B[0;32m    258\u001B[0m     filename \u001B[38;5;241m=\u001B[39m \u001B[38;5;124mf\u001B[39m\u001B[38;5;124m\"\u001B[39m\u001B[38;5;124msaves/\u001B[39m\u001B[38;5;132;01m{\u001B[39;00m\u001B[38;5;18m__file__\u001B[39m\u001B[38;5;132;01m}\u001B[39;00m\u001B[38;5;124m_\u001B[39m\u001B[38;5;132;01m{\u001B[39;00mcurrent_time_str\u001B[38;5;132;01m}\u001B[39;00m\u001B[38;5;124m.pkl\u001B[39m\u001B[38;5;124m\"\u001B[39m\n\u001B[1;32m--> 260\u001B[0m \u001B[38;5;28;01mwith\u001B[39;00m \u001B[38;5;28;43mopen\u001B[39;49m\u001B[43m(\u001B[49m\u001B[43mfilename\u001B[49m\u001B[43m,\u001B[49m\u001B[43m \u001B[49m\u001B[38;5;124;43m\"\u001B[39;49m\u001B[38;5;124;43mwb\u001B[39;49m\u001B[38;5;124;43m\"\u001B[39;49m\u001B[43m)\u001B[49m \u001B[38;5;28;01mas\u001B[39;00m file:\n\u001B[0;32m    261\u001B[0m     pickle\u001B[38;5;241m.\u001B[39mdump(\u001B[38;5;28mself\u001B[39m, file)\n\u001B[0;32m    263\u001B[0m \u001B[38;5;28;01mreturn\u001B[39;00m filename\n",
      "\u001B[1;31mOSError\u001B[0m: [Errno 22] Invalid argument: 'saves/C:\\\\Users\\\\tenant\\\\PycharmProjects\\\\cost_mechanisms_for_planning\\\\ptcr2\\\\fom.py_20240407-124847.pkl'"
     ]
    }
   ],
   "execution_count": 3
  },
  {
   "metadata": {},
   "cell_type": "markdown",
   "source": "Loads the model from the file that was saved. This is useful for when you want to run simulations on the model without having to recompute the optimal policy.",
   "id": "c27a4168e54b630"
  },
  {
   "metadata": {
    "ExecuteTime": {
     "end_time": "2024-04-07T17:48:47.386938Z",
     "start_time": "2024-04-07T17:48:47.386938Z"
    }
   },
   "cell_type": "code",
   "source": "wedding_fom = FOM.load(fom_save_file_name)",
   "id": "bf87cd289a86321",
   "outputs": [],
   "execution_count": null
  },
  {
   "metadata": {},
   "cell_type": "markdown",
   "source": "Plots the training runs of the general algorithm. This can be helpful to determine how various factors might affect the training process.",
   "id": "3ad6447d364524ef"
  },
  {
   "metadata": {},
   "cell_type": "code",
   "source": [
    "plt.title('Difference Measured While Computing Optimal Policy')\n",
    "plt.xlabel('Iteration')\n",
    "plt.ylabel('Difference')\n",
    "plt.plot(wedding_fom.computed_policy['diff_tracker'], 'g', label='Run')\n",
    "plt.axhline(wedding_fom.epsilon, linestyle='--', color='r', label='Epsilon of Convergence')\n",
    "plt.legend()"
   ],
   "id": "7689e6d6f41d67cc",
   "outputs": [],
   "execution_count": null
  },
  {
   "metadata": {},
   "cell_type": "markdown",
   "source": "Prints the result of one simulation run for both the general and greedy algorithm. This can be used to compare how much better our general algorithm is.",
   "id": "b48d179858cbba09"
  },
  {
   "metadata": {},
   "cell_type": "code",
   "source": [
    "results = wedding_fom.simulate_general_and_greedy_algorithms()  # Spec not needed since we're computing optimal policy separately\n",
    "\n",
    "print(results)"
   ],
   "id": "34a73d16015329bc",
   "outputs": [],
   "execution_count": null
  }
 ],
 "metadata": {
  "kernelspec": {
   "display_name": "Python 3",
   "language": "python",
   "name": "python3"
  },
  "language_info": {
   "codemirror_mode": {
    "name": "ipython",
    "version": 2
   },
   "file_extension": ".py",
   "mimetype": "text/x-python",
   "name": "python",
   "nbconvert_exporter": "python",
   "pygments_lexer": "ipython2",
   "version": "2.7.6"
  }
 },
 "nbformat": 4,
 "nbformat_minor": 5
}
