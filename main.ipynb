{
 "cells": [
  {
   "cell_type": "code",
   "id": "initial_id",
   "metadata": {
    "collapsed": true,
    "ExecuteTime": {
     "end_time": "2024-04-07T17:04:11.219464Z",
     "start_time": "2024-04-07T17:04:10.793538Z"
    }
   },
   "source": [
    "import json\n",
    "from timeit import default_timer as timer\n",
    "import matplotlib.pyplot as plt\n",
    "\n",
    "from ptcr2.FOM import FOM\n",
    "\n",
    "config_file = 'samples/wedding_fom.json'\n",
    "# parse file name\n",
    "file_name = config_file.split('/')[-1].split('.')[0]\n",
    "\n",
    "with open(config_file) as f:\n",
    "    spec = json.loads(f.read())\n"
   ],
   "outputs": [],
   "execution_count": 1
  },
  {
   "metadata": {
    "ExecuteTime": {
     "end_time": "2024-04-07T17:05:35.859986Z",
     "start_time": "2024-04-07T17:04:11.783083Z"
    }
   },
   "cell_type": "code",
   "source": [
    "wedding_fom = FOM()\n",
    "start = timer()\n",
    "wedding_fom.compute_optimal_policy(spec)\n",
    "end = timer()\n",
    "\n",
    "print('Time elapsed to compute optimal policy: ', end - start)"
   ],
   "id": "cdb70a1e713a534d",
   "outputs": [
    {
     "data": {
      "text/plain": [
       "Formatting checks succeeded.\n"
      ],
      "text/html": [
       "<pre style=\"white-space:pre;overflow-x:auto;line-height:normal;font-family:Menlo,'DejaVu Sans Mono',consolas,'Courier New',monospace\">Formatting checks succeeded.\n",
       "</pre>\n"
      ]
     },
     "metadata": {},
     "output_type": "display_data"
    },
    {
     "data": {
      "text/plain": [
       "\u001B[3m            Transition Matrix            \u001B[0m\n",
       "┏━━━┳━━━━━┳━━━━━┳━━━━━┳━━━━━┳━━━━━┳━━━━━┓\n",
       "┃\u001B[1m \u001B[0m\u001B[1m \u001B[0m\u001B[1m \u001B[0m┃\u001B[1m \u001B[0m\u001B[1mI  \u001B[0m\u001B[1m \u001B[0m┃\u001B[1m \u001B[0m\u001B[1mE  \u001B[0m\u001B[1m \u001B[0m┃\u001B[1m \u001B[0m\u001B[1mB  \u001B[0m\u001B[1m \u001B[0m┃\u001B[1m \u001B[0m\u001B[1mC  \u001B[0m\u001B[1m \u001B[0m┃\u001B[1m \u001B[0m\u001B[1mD  \u001B[0m\u001B[1m \u001B[0m┃\u001B[1m \u001B[0m\u001B[1mS  \u001B[0m\u001B[1m \u001B[0m┃\n",
       "┡━━━╇━━━━━╇━━━━━╇━━━━━╇━━━━━╇━━━━━╇━━━━━┩\n",
       "│ I │ 0.0 │ 0.1 │ 0.3 │ 0.1 │ 0.2 │ 0.3 │\n",
       "│ E │ 0.0 │ 0.1 │ 0.2 │ 0.1 │ 0.3 │ 0.3 │\n",
       "│ B │ 0.0 │ 0.2 │ 0.1 │ 0.1 │ 0.3 │ 0.3 │\n",
       "│ C │ 0.0 │ 0.1 │ 0.2 │ 0.2 │ 0.3 │ 0.2 │\n",
       "│ D │ 0.0 │ 0.2 │ 0.3 │ 0.1 │ 0.1 │ 0.3 │\n",
       "│ S │ 0.0 │ 0.4 │ 0.2 │ 0.2 │ 0.2 │ 0.0 │\n",
       "└───┴─────┴─────┴─────┴─────┴─────┴─────┘\n"
      ],
      "text/html": [
       "<pre style=\"white-space:pre;overflow-x:auto;line-height:normal;font-family:Menlo,'DejaVu Sans Mono',consolas,'Courier New',monospace\"><span style=\"font-style: italic\">            Transition Matrix            </span>\n",
       "┏━━━┳━━━━━┳━━━━━┳━━━━━┳━━━━━┳━━━━━┳━━━━━┓\n",
       "┃<span style=\"font-weight: bold\">   </span>┃<span style=\"font-weight: bold\"> I   </span>┃<span style=\"font-weight: bold\"> E   </span>┃<span style=\"font-weight: bold\"> B   </span>┃<span style=\"font-weight: bold\"> C   </span>┃<span style=\"font-weight: bold\"> D   </span>┃<span style=\"font-weight: bold\"> S   </span>┃\n",
       "┡━━━╇━━━━━╇━━━━━╇━━━━━╇━━━━━╇━━━━━╇━━━━━┩\n",
       "│ I │ 0.0 │ 0.1 │ 0.3 │ 0.1 │ 0.2 │ 0.3 │\n",
       "│ E │ 0.0 │ 0.1 │ 0.2 │ 0.1 │ 0.3 │ 0.3 │\n",
       "│ B │ 0.0 │ 0.2 │ 0.1 │ 0.1 │ 0.3 │ 0.3 │\n",
       "│ C │ 0.0 │ 0.1 │ 0.2 │ 0.2 │ 0.3 │ 0.2 │\n",
       "│ D │ 0.0 │ 0.2 │ 0.3 │ 0.1 │ 0.1 │ 0.3 │\n",
       "│ S │ 0.0 │ 0.4 │ 0.2 │ 0.2 │ 0.2 │ 0.0 │\n",
       "└───┴─────┴─────┴─────┴─────┴─────┴─────┘\n",
       "</pre>\n"
      ]
     },
     "metadata": {},
     "output_type": "display_data"
    },
    {
     "data": {
      "text/plain": [
       "\u001B[3m        Initial Distribution         \u001B[0m\n",
       "┏━━━━━┳━━━━━┳━━━━━┳━━━━━┳━━━━━┳━━━━━┓\n",
       "┃\u001B[1m \u001B[0m\u001B[1mI  \u001B[0m\u001B[1m \u001B[0m┃\u001B[1m \u001B[0m\u001B[1mE  \u001B[0m\u001B[1m \u001B[0m┃\u001B[1m \u001B[0m\u001B[1mB  \u001B[0m\u001B[1m \u001B[0m┃\u001B[1m \u001B[0m\u001B[1mC  \u001B[0m\u001B[1m \u001B[0m┃\u001B[1m \u001B[0m\u001B[1mD  \u001B[0m\u001B[1m \u001B[0m┃\u001B[1m \u001B[0m\u001B[1mS  \u001B[0m\u001B[1m \u001B[0m┃\n",
       "┡━━━━━╇━━━━━╇━━━━━╇━━━━━╇━━━━━╇━━━━━┩\n",
       "│ 0.0 │ 0.1 │ 0.3 │ 0.2 │ 0.2 │ 0.2 │\n",
       "└─────┴─────┴─────┴─────┴─────┴─────┘\n"
      ],
      "text/html": [
       "<pre style=\"white-space:pre;overflow-x:auto;line-height:normal;font-family:Menlo,'DejaVu Sans Mono',consolas,'Courier New',monospace\"><span style=\"font-style: italic\">        Initial Distribution         </span>\n",
       "┏━━━━━┳━━━━━┳━━━━━┳━━━━━┳━━━━━┳━━━━━┓\n",
       "┃<span style=\"font-weight: bold\"> I   </span>┃<span style=\"font-weight: bold\"> E   </span>┃<span style=\"font-weight: bold\"> B   </span>┃<span style=\"font-weight: bold\"> C   </span>┃<span style=\"font-weight: bold\"> D   </span>┃<span style=\"font-weight: bold\"> S   </span>┃\n",
       "┡━━━━━╇━━━━━╇━━━━━╇━━━━━╇━━━━━╇━━━━━┩\n",
       "│ 0.0 │ 0.1 │ 0.3 │ 0.2 │ 0.2 │ 0.2 │\n",
       "└─────┴─────┴─────┴─────┴─────┴─────┘\n",
       "</pre>\n"
      ]
     },
     "metadata": {},
     "output_type": "display_data"
    },
    {
     "data": {
      "text/plain": [
       "\u001B[3m         Cost Matrix         \u001B[0m\n",
       "┏━━━┳━━━┳━━━┳━━━┳━━━┳━━━┳━━━┓\n",
       "┃\u001B[1m \u001B[0m\u001B[1m \u001B[0m\u001B[1m \u001B[0m┃\u001B[1m \u001B[0m\u001B[1mI\u001B[0m\u001B[1m \u001B[0m┃\u001B[1m \u001B[0m\u001B[1mE\u001B[0m\u001B[1m \u001B[0m┃\u001B[1m \u001B[0m\u001B[1mB\u001B[0m\u001B[1m \u001B[0m┃\u001B[1m \u001B[0m\u001B[1mC\u001B[0m\u001B[1m \u001B[0m┃\u001B[1m \u001B[0m\u001B[1mD\u001B[0m\u001B[1m \u001B[0m┃\u001B[1m \u001B[0m\u001B[1mS\u001B[0m\u001B[1m \u001B[0m┃\n",
       "┡━━━╇━━━╇━━━╇━━━╇━━━╇━━━╇━━━┩\n",
       "│ I │ 0 │ 1 │ 2 │ 3 │ 4 │ 5 │\n",
       "│ E │ 1 │ 0 │ 1 │ 2 │ 3 │ 4 │\n",
       "│ B │ 2 │ 1 │ 0 │ 1 │ 2 │ 3 │\n",
       "│ C │ 3 │ 2 │ 1 │ 0 │ 1 │ 2 │\n",
       "│ D │ 4 │ 3 │ 2 │ 1 │ 0 │ 1 │\n",
       "│ S │ 5 │ 4 │ 3 │ 2 │ 1 │ 0 │\n",
       "└───┴───┴───┴───┴───┴───┴───┘\n"
      ],
      "text/html": [
       "<pre style=\"white-space:pre;overflow-x:auto;line-height:normal;font-family:Menlo,'DejaVu Sans Mono',consolas,'Courier New',monospace\"><span style=\"font-style: italic\">         Cost Matrix         </span>\n",
       "┏━━━┳━━━┳━━━┳━━━┳━━━┳━━━┳━━━┓\n",
       "┃<span style=\"font-weight: bold\">   </span>┃<span style=\"font-weight: bold\"> I </span>┃<span style=\"font-weight: bold\"> E </span>┃<span style=\"font-weight: bold\"> B </span>┃<span style=\"font-weight: bold\"> C </span>┃<span style=\"font-weight: bold\"> D </span>┃<span style=\"font-weight: bold\"> S </span>┃\n",
       "┡━━━╇━━━╇━━━╇━━━╇━━━╇━━━╇━━━┩\n",
       "│ I │ 0 │ 1 │ 2 │ 3 │ 4 │ 5 │\n",
       "│ E │ 1 │ 0 │ 1 │ 2 │ 3 │ 4 │\n",
       "│ B │ 2 │ 1 │ 0 │ 1 │ 2 │ 3 │\n",
       "│ C │ 3 │ 2 │ 1 │ 0 │ 1 │ 2 │\n",
       "│ D │ 4 │ 3 │ 2 │ 1 │ 0 │ 1 │\n",
       "│ S │ 5 │ 4 │ 3 │ 2 │ 1 │ 0 │\n",
       "└───┴───┴───┴───┴───┴───┴───┘\n",
       "</pre>\n"
      ]
     },
     "metadata": {},
     "output_type": "display_data"
    },
    {
     "data": {
      "text/plain": [
       "\u001B[3mAlphabet \u001B[0m\n",
       "┏━━━━━━━┓\n",
       "┃\u001B[1m \u001B[0m\u001B[1mItems\u001B[0m\u001B[1m \u001B[0m┃\n",
       "┡━━━━━━━┩\n",
       "│ d12   │\n",
       "│ s2    │\n",
       "│ s3    │\n",
       "│ s1    │\n",
       "│ e2    │\n",
       "│ d3    │\n",
       "│ d23   │\n",
       "│ d2    │\n",
       "│ c1    │\n",
       "│ d1    │\n",
       "│ b1    │\n",
       "│ e3    │\n",
       "│ c2    │\n",
       "│ b3    │\n",
       "│ e1    │\n",
       "│ c3    │\n",
       "│ b2    │\n",
       "└───────┘\n"
      ],
      "text/html": [
       "<pre style=\"white-space:pre;overflow-x:auto;line-height:normal;font-family:Menlo,'DejaVu Sans Mono',consolas,'Courier New',monospace\"><span style=\"font-style: italic\">Alphabet </span>\n",
       "┏━━━━━━━┓\n",
       "┃<span style=\"font-weight: bold\"> Items </span>┃\n",
       "┡━━━━━━━┩\n",
       "│ d12   │\n",
       "│ s2    │\n",
       "│ s3    │\n",
       "│ s1    │\n",
       "│ e2    │\n",
       "│ d3    │\n",
       "│ d23   │\n",
       "│ d2    │\n",
       "│ c1    │\n",
       "│ d1    │\n",
       "│ b1    │\n",
       "│ e3    │\n",
       "│ c2    │\n",
       "│ b3    │\n",
       "│ e1    │\n",
       "│ c3    │\n",
       "│ b2    │\n",
       "└───────┘\n",
       "</pre>\n"
      ]
     },
     "metadata": {},
     "output_type": "display_data"
    },
    {
     "data": {
      "text/plain": [
       "Single initial state \u001B[1;36m0\u001B[0m:\n",
       "\u001B[1m[\u001B[0m\u001B[1m[\u001B[0m\u001B[1m(\u001B[0m\u001B[32m'd1'\u001B[0m, \u001B[32m'd2'\u001B[0m\u001B[1m)\u001B[0m, \u001B[32m'd12'\u001B[0m\u001B[1m]\u001B[0m\u001B[1m]\u001B[0m\n"
      ],
      "text/html": [
       "<pre style=\"white-space:pre;overflow-x:auto;line-height:normal;font-family:Menlo,'DejaVu Sans Mono',consolas,'Courier New',monospace\">Single initial state <span style=\"color: #008080; text-decoration-color: #008080; font-weight: bold\">0</span>:\n",
       "<span style=\"font-weight: bold\">[[(</span><span style=\"color: #008000; text-decoration-color: #008000\">'d1'</span>, <span style=\"color: #008000; text-decoration-color: #008000\">'d2'</span><span style=\"font-weight: bold\">)</span>, <span style=\"color: #008000; text-decoration-color: #008000\">'d12'</span><span style=\"font-weight: bold\">]]</span>\n",
       "</pre>\n"
      ]
     },
     "metadata": {},
     "output_type": "display_data"
    },
    {
     "data": {
      "text/plain": [
       "Single initial state \u001B[1;36m1\u001B[0m:\n",
       "\u001B[1m[\u001B[0m\u001B[1m[\u001B[0m\u001B[1m(\u001B[0m\u001B[32m'd2'\u001B[0m, \u001B[32m'd3'\u001B[0m\u001B[1m)\u001B[0m, \u001B[32m'd23'\u001B[0m\u001B[1m]\u001B[0m\u001B[1m]\u001B[0m\n"
      ],
      "text/html": [
       "<pre style=\"white-space:pre;overflow-x:auto;line-height:normal;font-family:Menlo,'DejaVu Sans Mono',consolas,'Courier New',monospace\">Single initial state <span style=\"color: #008080; text-decoration-color: #008080; font-weight: bold\">1</span>:\n",
       "<span style=\"font-weight: bold\">[[(</span><span style=\"color: #008000; text-decoration-color: #008000\">'d2'</span>, <span style=\"color: #008000; text-decoration-color: #008000\">'d3'</span><span style=\"font-weight: bold\">)</span>, <span style=\"color: #008000; text-decoration-color: #008000\">'d23'</span><span style=\"font-weight: bold\">]]</span>\n",
       "</pre>\n"
      ]
     },
     "metadata": {},
     "output_type": "display_data"
    },
    {
     "name": "stdout",
     "output_type": "stream",
     "text": [
      "Unreachable state have been recognized\n",
      "Start checking transitions to remove\n",
      "Number of transitions: 2587213\n",
      "End checking transitions to remove\n",
      "Start removing unreachable transitions\n",
      "End removing unreachable transitions\n",
      "Start removing unreachable states\n",
      "End removing unreachable states\n",
      "Start reindexing states\n",
      "End reindexing states\n",
      "Number of unreachable states removed = 0\n",
      "Number of unreachable transitions removed = 0\n",
      "Time elapsed to compute optimal policy:  84.0624227\n"
     ]
    }
   ],
   "execution_count": 2
  },
  {
   "metadata": {
    "ExecuteTime": {
     "end_time": "2024-04-07T17:06:42.489658Z",
     "start_time": "2024-04-07T17:06:42.357097Z"
    }
   },
   "cell_type": "code",
   "source": [
    "plt.title('Difference Measured While Computing Optimal Policy')\n",
    "plt.xlabel('Iteration')\n",
    "plt.ylabel('Difference')\n",
    "plt.plot(wedding_fom.computed_policy['diff_tracker'], 'g', label='Run')\n",
    "plt.axhline(wedding_fom.epsilon, linestyle='--', color='r', label='Epsilon Cut-off')\n",
    "plt.legend()"
   ],
   "id": "7689e6d6f41d67cc",
   "outputs": [
    {
     "data": {
      "text/plain": [
       "<matplotlib.legend.Legend at 0x2477ba736a0>"
      ]
     },
     "execution_count": 7,
     "metadata": {},
     "output_type": "execute_result"
    },
    {
     "data": {
      "text/plain": [
       "<Figure size 640x480 with 1 Axes>"
      ],
      "image/png": "[encoded data removed]"
     },
     "metadata": {},
     "output_type": "display_data"
    }
   ],
   "execution_count": 7
  },
  {
   "metadata": {
    "jupyter": {
     "is_executing": true
    }
   },
   "cell_type": "code",
   "source": [
    "results = wedding_fom.simulate_general_and_greedy_algorithms()  # Spec not needed since we're computing optimal policy separately\n",
    "\n",
    "print(results)"
   ],
   "id": "34a73d16015329bc",
   "outputs": [],
   "execution_count": null
  }
 ],
 "metadata": {
  "kernelspec": {
   "display_name": "Python 3",
   "language": "python",
   "name": "python3"
  },
  "language_info": {
   "codemirror_mode": {
    "name": "ipython",
    "version": 2
   },
   "file_extension": ".py",
   "mimetype": "text/x-python",
   "name": "python",
   "nbconvert_exporter": "python",
   "pygments_lexer": "ipython2",
   "version": "2.7.6"
  }
 },
 "nbformat": 4,
 "nbformat_minor": 5
}
