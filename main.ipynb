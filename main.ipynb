{
 "cells": [
  {
   "metadata": {},
   "cell_type": "markdown",
   "source": [
    "# Wedding FOM: To Optimize Cost Or Not?\n",
    "T-Lind"
   ],
   "id": "6a09a85187f304c6"
  },
  {
   "metadata": {
    "ExecuteTime": {
     "end_time": "2024-04-16T13:39:49.793860Z",
     "start_time": "2024-04-16T13:39:49.146199Z"
    }
   },
   "cell_type": "code",
   "source": [
    "import json\n",
    "from timeit import default_timer as timer\n",
    "import matplotlib.pyplot as plt\n",
    "\n",
    "from ptcr2.fom import FOM\n",
    "\n",
    "config_file = 'samples/wedding_fom.json'\n",
    "\n",
    "with open(config_file) as f:\n",
    "    spec = json.loads(f.read())\n"
   ],
   "id": "initial_id",
   "outputs": [],
   "execution_count": 1
  },
  {
   "metadata": {
    "jupyter": {
     "is_executing": true
    },
    "ExecuteTime": {
     "start_time": "2024-04-16T13:42:54.844366Z"
    }
   },
   "cell_type": "code",
   "source": [
    "wedding_fom_cost = FOM()\n",
    "start = timer()\n",
    "wedding_fom_cost.compute_optimal_policy(spec, cost_based=True)\n",
    "end = timer()\n",
    "\n",
    "print('Time elapsed to compute cost-based optimal policy: ', end - start)"
   ],
   "id": "325d2e833cf860f6",
   "outputs": [],
   "execution_count": null
  },
  {
   "metadata": {
    "jupyter": {
     "is_executing": true
    }
   },
   "cell_type": "code",
   "source": [
    "wedding_fom_no_cost = FOM()\n",
    "start = timer()\n",
    "wedding_fom_no_cost.compute_optimal_policy(spec)\n",
    "end = timer()\n",
    "\n",
    "print('Time elapsed to compute no-cost optimal policy: ', end - start)"
   ],
   "id": "cdb70a1e713a534d",
   "outputs": [],
   "execution_count": null
  },
  {
   "metadata": {
    "jupyter": {
     "is_executing": true
    }
   },
   "cell_type": "code",
   "source": [
    "# Save the two models\n",
    "wedding_fom_cost.save('saves/wedding_fom_cost2.pkl')\n",
    "wedding_fom_no_cost.save('saves/wedding_fom_no_cost2.pkl')"
   ],
   "id": "ada3c6921b3271fa",
   "outputs": [],
   "execution_count": null
  },
  {
   "metadata": {
    "ExecuteTime": {
     "end_time": "2024-04-16T13:40:12.112678Z",
     "start_time": "2024-04-16T13:39:53.177808Z"
    }
   },
   "cell_type": "code",
   "source": [
    "# Load the two models\n",
    "wedding_fom_cost = FOM.load('saves/wedding_fom_cost2.pkl')\n",
    "wedding_fom_no_cost = FOM.load('saves/wedding_fom_no_cost2.pkl')"
   ],
   "id": "a44e4273a3d081d4",
   "outputs": [],
   "execution_count": 2
  },
  {
   "metadata": {},
   "cell_type": "markdown",
   "source": "Plots the training runs of the general algorithms. This can be helpful to determine how various factors might affect the training process.",
   "id": "3ad6447d364524ef"
  },
  {
   "metadata": {
    "jupyter": {
     "is_executing": true
    }
   },
   "cell_type": "code",
   "source": [
    "plt.title('Difference Measured While Computing Optimal Policy')\n",
    "plt.xlabel('Iteration')\n",
    "plt.ylabel('Difference')\n",
    "\n",
    "# Create new list from diff_tracker that divides by the max value to normalize in cost-based case\n",
    "\n",
    "plt.plot(wedding_fom_no_cost.computed_policy['diff_tracker'], 'g', label='Step-based')\n",
    "plt.plot(wedding_fom_cost.computed_policy['diff_tracker'], 'b', label='Cost-based')\n",
    "plt.axhline(wedding_fom_no_cost.epsilon, linestyle='--', color='r', label='Epsilon of Convergence')  # Same epsilon for both since they come from same spec\n",
    "plt.legend()"
   ],
   "id": "7689e6d6f41d67cc",
   "outputs": [],
   "execution_count": null
  },
  {
   "metadata": {},
   "cell_type": "markdown",
   "source": "Prints the result of one simulation run for both the no-cost and cost algorithm. This can be used to compare how much better the cost-based general algorithm is.",
   "id": "b48d179858cbba09"
  },
  {
   "metadata": {
    "ExecuteTime": {
     "end_time": "2024-04-16T13:40:12.328079Z",
     "start_time": "2024-04-16T13:40:12.314061Z"
    }
   },
   "cell_type": "code",
   "source": [
    "# Example run\n",
    "results = wedding_fom_cost.simulate_general_algos(wedding_fom_no_cost.computed_policy['optimal_policy'], wedding_fom_cost.computed_policy['optimal_policy'])  # Spec not needed since we're computing optimal policy separately\n",
    "print(results)"
   ],
   "id": "34a73d16015329bc",
   "outputs": [
    {
     "name": "stdout",
     "output_type": "stream",
     "text": [
      "{'general_algorithm': {'steps': 15, 'story': 's3d2c3d12s3', 'total_cost': 9}, 'cost_based_algorithm': {'steps': 15, 'story': 's3d2c3d12s3', 'total_cost': 9}}\n"
     ]
    }
   ],
   "execution_count": 4
  },
  {
   "metadata": {
    "ExecuteTime": {
     "end_time": "2024-04-16T13:42:31.320446Z",
     "start_time": "2024-04-16T13:42:28.736747Z"
    }
   },
   "cell_type": "code",
   "source": [
    "from tqdm import tqdm\n",
    "\n",
    "# Now, simulate the algorithms across 1000 runs\n",
    "n_runs = 1_000\n",
    "\n",
    "no_cost_steps = []\n",
    "no_cost_costs = []\n",
    "\n",
    "cost_steps = []\n",
    "cost_costs = []\n",
    "\n",
    "for _ in tqdm(range(n_runs)):\n",
    "    results = wedding_fom_cost.simulate_general_algos(wedding_fom_no_cost.computed_policy['optimal_policy'], wedding_fom_cost.computed_policy['optimal_policy'])\n",
    "    \n",
    "    no_cost_steps.append(results['general_algorithm']['steps'])\n",
    "    cost_steps.append(results['cost_based_algorithm']['steps'])\n"
   ],
   "id": "966e9c2a69594d0e",
   "outputs": [
    {
     "name": "stderr",
     "output_type": "stream",
     "text": [
      "100%|██████████| 1000/1000 [00:02<00:00, 389.94it/s]\n"
     ]
    }
   ],
   "execution_count": 7
  },
  {
   "metadata": {
    "ExecuteTime": {
     "end_time": "2024-04-16T13:42:33.319729Z",
     "start_time": "2024-04-16T13:42:33.095755Z"
    }
   },
   "cell_type": "code",
   "source": [
    "# Plot the two histograms, with cost/no-cost distributions in different colors\n",
    "plt.hist(no_cost_steps, bins=50, alpha=0.5, label='No-Cost')\n",
    "plt.hist(cost_steps, bins=50, alpha=0.5, label='Cost-Optimized')\n",
    "\n",
    "plt.legend()\n",
    "plt.title('Distribution of Steps Taken by Costless and Cost-Optimized Algorithms')\n",
    "plt.xlabel('Steps')\n",
    "plt.ylabel('Frequency')\n",
    "plt.show()"
   ],
   "id": "5f5da8c82a449b7e",
   "outputs": [
    {
     "data": {
      "text/plain": [
       "<Figure size 640x480 with 1 Axes>"
      ],
      "image/png": "[encoded data removed]"
     },
     "metadata": {},
     "output_type": "display_data"
    }
   ],
   "execution_count": 8
  },
  {
   "metadata": {
    "ExecuteTime": {
     "end_time": "2024-04-07T22:28:25.373405Z",
     "start_time": "2024-04-07T22:28:24.812929Z"
    }
   },
   "cell_type": "code",
   "source": [
    "# Plot the two histograms, with cost/no-cost distributions in different colors\n",
    "plt.hist(no_cost_costs, bins=10, alpha=0.5, label='No-Cost')\n",
    "plt.hist(cost_costs, bins=10, alpha=0.5, label='Cost-Optimized')\n",
    "\n",
    "plt.legend()\n",
    "plt.title('Distribution of Costs Incurred by Costless and Cost-Optimized Algorithms')\n",
    "plt.xlabel('Cost')\n",
    "plt.ylabel('Frequency')\n",
    "plt.show()"
   ],
   "id": "12564a5c052403a8",
   "outputs": [
    {
     "data": {
      "text/plain": [
       "<Figure size 640x480 with 1 Axes>"
      ],
      "image/png": "[encoded data removed]"
     },
     "metadata": {},
     "output_type": "display_data"
    }
   ],
   "execution_count": 19
  },
  {
   "metadata": {
    "ExecuteTime": {
     "end_time": "2024-04-07T22:28:32.395930Z",
     "start_time": "2024-04-07T22:28:32.296749Z"
    }
   },
   "cell_type": "code",
   "source": [
    "import numpy as np\n",
    "\n",
    "# Print 5-number summary + mean for general and greedy steps taken\n",
    "print('Costless Algorithm Steps Summary:')\n",
    "print('Min:', np.min(no_cost_steps))\n",
    "print('Q1:', np.percentile(no_cost_steps, 25))\n",
    "print('Median:', np.median(no_cost_steps))\n",
    "print('Mean:', np.mean(no_cost_steps))\n",
    "print('Q3:', np.percentile(no_cost_steps, 75))\n",
    "print('Max:', np.max(no_cost_steps))\n",
    "\n",
    "print('\\nCost-Optimized Algorithm Steps Summary:')\n",
    "print('Min:', np.min(cost_steps))\n",
    "print('Q1:', np.percentile(cost_steps, 25))\n",
    "print('Median:', np.median(cost_steps))\n",
    "print('Mean:', np.mean(cost_steps))\n",
    "print('Q3:', np.percentile(cost_steps, 75))\n",
    "print('Max:', np.max(cost_steps))\n",
    "\n",
    "# Print 5-number summary + mean for general and greedy costs incurred\n",
    "print('\\nCostless Algorithm Costs Summary:')\n",
    "print('Min:', np.min(no_cost_costs))\n",
    "print('Q1:', np.percentile(no_cost_costs, 25))\n",
    "print('Median:', np.median(no_cost_costs))\n",
    "print('Mean:', np.mean(no_cost_costs))\n",
    "print('Q3:', np.percentile(no_cost_costs, 75))\n",
    "print('Max:', np.max(no_cost_costs))\n",
    "\n",
    "print('\\nCost-Optimized Algorithm Costs Summary:')\n",
    "print('Min:', np.min(cost_costs))\n",
    "print('Q1:', np.percentile(cost_costs, 25))\n",
    "print('Median:', np.median(cost_costs))\n",
    "print('Mean:', np.mean(cost_costs))\n",
    "print('Q3:', np.percentile(cost_costs, 75))\n",
    "print('Max:', np.max(cost_costs))"
   ],
   "id": "6e7f5d755664f12",
   "outputs": [
    {
     "name": "stdout",
     "output_type": "stream",
     "text": [
      "Costless Algorithm Steps Summary:\n",
      "Min: 5\n",
      "Q1: 18.0\n",
      "Median: 26.0\n",
      "Mean: 30.26955\n",
      "Q3: 37.0\n",
      "Max: 194\n",
      "\n",
      "Cost-Optimized Algorithm Steps Summary:\n",
      "Min: 5\n",
      "Q1: 18.0\n",
      "Median: 26.0\n",
      "Mean: 30.30514\n",
      "Q3: 37.0\n",
      "Max: 215\n",
      "\n",
      "Costless Algorithm Costs Summary:\n",
      "Min: 1\n",
      "Q1: 8.0\n",
      "Median: 10.0\n",
      "Mean: 10.09583\n",
      "Q3: 12.0\n",
      "Max: 19\n",
      "\n",
      "Cost-Optimized Algorithm Costs Summary:\n",
      "Min: 2\n",
      "Q1: 8.0\n",
      "Median: 10.0\n",
      "Mean: 10.08459\n",
      "Q3: 12.0\n",
      "Max: 19\n"
     ]
    }
   ],
   "execution_count": 20
  },
  {
   "metadata": {
    "ExecuteTime": {
     "end_time": "2024-04-07T22:28:40.077477Z",
     "start_time": "2024-04-07T22:28:40.040749Z"
    }
   },
   "cell_type": "code",
   "source": [
    "from scipy.stats import ttest_ind\n",
    "\n",
    "alpha = 0.05\n",
    "\n",
    "# We want to check if both the number of steps and cost is lower for the cost-optimized algorithm than the costless algorithm\n",
    "t_stat, p_val = ttest_ind(cost_steps, no_cost_steps, equal_var=False, alternative='less')\n",
    "print(\"Performing 2-sample t-test to compare costless and cost-optimized algorithms:\")\n",
    "print('T-Statistic:', t_stat)\n",
    "print('P-Value:', p_val)\n",
    "\n",
    "\n",
    "if p_val < alpha:\n",
    "    print('Reject the null hypothesis: The cost-optimized algorithm is significantly lower in steps than the costless algorithm.')\n",
    "else:\n",
    "    print('Fail to reject the null hypothesis: The cost-optimized algorithm is not significantly lower in steps than the costless algorithm.')\n",
    "    \n",
    "# Perform an independent 2-sample t-test to determine if the cost-optimized algorithm is significantly lower in cost than the costless algorithm\n",
    "t_stat, p_val = ttest_ind(cost_costs, no_cost_costs, equal_var=False, alternative='less')\n",
    "print(\"\\nPerforming 2-sample t-test to compare costless and cost-optimized algorithms:\")\n",
    "print('T-Statistic:', t_stat)\n",
    "print('P-Value:', p_val)\n",
    "\n",
    "if p_val < alpha:\n",
    "    print('Reject the null hypothesis: The cost-optimized algorithm is significantly lower in cost than the costless algorithm.')\n",
    "else:\n",
    "    print('Fail to reject the null hypothesis: The cost-optimized algorithm is not significantly lower in cost than the costless algorithm.')"
   ],
   "id": "dd94a38f57a80b04",
   "outputs": [
    {
     "name": "stdout",
     "output_type": "stream",
     "text": [
      "Performing 2-sample t-test to compare costless and cost-optimized algorithms:\n",
      "T-Statistic: 0.4554662708976157\n",
      "P-Value: 0.6756128388781277\n",
      "Fail to reject the null hypothesis: The cost-optimized algorithm is not significantly lower in steps than the costless algorithm.\n",
      "\n",
      "Performing 2-sample t-test to compare costless and cost-optimized algorithms:\n",
      "T-Statistic: -1.0088675171154593\n",
      "P-Value: 0.15651969796452994\n",
      "Fail to reject the null hypothesis: The cost-optimized algorithm is not significantly lower in cost than the costless algorithm.\n"
     ]
    }
   ],
   "execution_count": 21
  },
  {
   "metadata": {},
   "cell_type": "code",
   "outputs": [],
   "execution_count": null,
   "source": "",
   "id": "b23fd49b93cbb989"
  }
 ],
 "metadata": {
  "kernelspec": {
   "display_name": "Python 3",
   "language": "python",
   "name": "python3"
  },
  "language_info": {
   "codemirror_mode": {
    "name": "ipython",
    "version": 2
   },
   "file_extension": ".py",
   "mimetype": "text/x-python",
   "name": "python",
   "nbconvert_exporter": "python",
   "pygments_lexer": "ipython2",
   "version": "2.7.6"
  }
 },
 "nbformat": 4,
 "nbformat_minor": 5
}
