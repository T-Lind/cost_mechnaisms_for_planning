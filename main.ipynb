{
 "cells": [
  {
   "metadata": {},
   "cell_type": "markdown",
   "source": [
    "# Wedding FOM: To Optimize Cost Or Not?\n",
    "T-Lind"
   ],
   "id": "6a09a85187f304c6"
  },
  {
   "metadata": {
    "ExecuteTime": {
     "end_time": "2024-04-07T21:39:11.709422Z",
     "start_time": "2024-04-07T21:39:11.103113Z"
    }
   },
   "cell_type": "code",
   "source": [
    "import json\n",
    "from timeit import default_timer as timer\n",
    "import matplotlib.pyplot as plt\n",
    "\n",
    "from ptcr2.fom import FOM\n",
    "\n",
    "config_file = 'samples/wedding_fom.json'\n",
    "\n",
    "with open(config_file) as f:\n",
    "    spec = json.loads(f.read())\n"
   ],
   "id": "initial_id",
   "outputs": [],
   "execution_count": 3
  },
  {
   "metadata": {
    "ExecuteTime": {
     "end_time": "2024-04-07T21:40:54.426291Z",
     "start_time": "2024-04-07T21:39:23.069072Z"
    }
   },
   "cell_type": "code",
   "source": [
    "wedding_fom_no_cost = FOM()\n",
    "start = timer()\n",
    "wedding_fom_no_cost.compute_optimal_policy(spec)\n",
    "end = timer()\n",
    "\n",
    "print('Time elapsed to compute no-cost optimal policy: ', end - start)"
   ],
   "id": "cdb70a1e713a534d",
   "outputs": [
    {
     "name": "stdout",
     "output_type": "stream",
     "text": [
      "Time elapsed to compute no-cost optimal policy:  91.3416663\n"
     ]
    }
   ],
   "execution_count": 4
  },
  {
   "metadata": {
    "ExecuteTime": {
     "end_time": "2024-04-07T21:41:55.762466Z",
     "start_time": "2024-04-07T21:40:54.427858Z"
    }
   },
   "cell_type": "code",
   "source": [
    "wedding_fom_cost = FOM()\n",
    "start = timer()\n",
    "wedding_fom_cost.compute_optimal_policy(spec, cost_based=True)\n",
    "end = timer()\n",
    "\n",
    "print('Time elapsed to compute cost-based optimal policy: ', end - start)"
   ],
   "id": "325d2e833cf860f6",
   "outputs": [
    {
     "name": "stdout",
     "output_type": "stream",
     "text": [
      "COMPUTING COST BASED POLICY!!!\n",
      "Transition from 0 to 1 with cost 1\n",
      "Transition from 0 to 2 with cost 2\n",
      "Transition from 0 to 3 with cost 3\n",
      "Transition from 0 to 5 with cost 5\n"
     ]
    },
    {
     "ename": "IndexError",
     "evalue": "list index out of range",
     "output_type": "error",
     "traceback": [
      "\u001B[1;31m---------------------------------------------------------------------------\u001B[0m",
      "\u001B[1;31mIndexError\u001B[0m                                Traceback (most recent call last)",
      "Cell \u001B[1;32mIn[5], line 3\u001B[0m\n\u001B[0;32m      1\u001B[0m wedding_fom_cost \u001B[38;5;241m=\u001B[39m FOM()\n\u001B[0;32m      2\u001B[0m start \u001B[38;5;241m=\u001B[39m timer()\n\u001B[1;32m----> 3\u001B[0m \u001B[43mwedding_fom_cost\u001B[49m\u001B[38;5;241;43m.\u001B[39;49m\u001B[43mcompute_optimal_policy\u001B[49m\u001B[43m(\u001B[49m\u001B[43mspec\u001B[49m\u001B[43m,\u001B[49m\u001B[43m \u001B[49m\u001B[43mcost_based\u001B[49m\u001B[38;5;241;43m=\u001B[39;49m\u001B[38;5;28;43;01mTrue\u001B[39;49;00m\u001B[43m)\u001B[49m\n\u001B[0;32m      4\u001B[0m end \u001B[38;5;241m=\u001B[39m timer()\n\u001B[0;32m      6\u001B[0m \u001B[38;5;28mprint\u001B[39m(\u001B[38;5;124m'\u001B[39m\u001B[38;5;124mTime elapsed to compute cost-based optimal policy: \u001B[39m\u001B[38;5;124m'\u001B[39m, end \u001B[38;5;241m-\u001B[39m start)\n",
      "File \u001B[1;32m~\\PycharmProjects\\cost_mechanisms_for_planning\\ptcr2\\base_model.py:35\u001B[0m, in \u001B[0;36mBaseModel.compute_optimal_policy\u001B[1;34m(self, spec, cost_based)\u001B[0m\n\u001B[0;32m     33\u001B[0m \u001B[38;5;28;01melse\u001B[39;00m:\n\u001B[0;32m     34\u001B[0m     \u001B[38;5;28mprint\u001B[39m(\u001B[38;5;124m\"\u001B[39m\u001B[38;5;124mCOMPUTING COST BASED POLICY!!!\u001B[39m\u001B[38;5;124m\"\u001B[39m)\n\u001B[1;32m---> 35\u001B[0m     \u001B[38;5;28mself\u001B[39m\u001B[38;5;241m.\u001B[39mcomputed_policy \u001B[38;5;241m=\u001B[39m \u001B[38;5;28;43mself\u001B[39;49m\u001B[38;5;241;43m.\u001B[39;49m\u001B[43mep\u001B[49m\u001B[38;5;241;43m.\u001B[39;49m\u001B[43moptimal_policy_infinite_horizon_cost_based\u001B[49m\u001B[43m(\u001B[49m\n\u001B[0;32m     36\u001B[0m \u001B[43m        \u001B[49m\u001B[43mepsilon_of_convergence\u001B[49m\u001B[38;5;241;43m=\u001B[39;49m\u001B[38;5;28;43mself\u001B[39;49m\u001B[38;5;241;43m.\u001B[39;49m\u001B[43mepsilon\u001B[49m\u001B[43m)\u001B[49m\n\u001B[0;32m     37\u001B[0m \u001B[38;5;28;01mreturn\u001B[39;00m \u001B[38;5;28mself\u001B[39m\u001B[38;5;241m.\u001B[39mcomputed_policy\n",
      "File \u001B[1;32m~\\PycharmProjects\\cost_mechanisms_for_planning\\ptcr2\\event_predictor.py:445\u001B[0m, in \u001B[0;36mEventPredictor.optimal_policy_infinite_horizon_cost_based\u001B[1;34m(self, epsilon_of_convergence, compute_avoidable_actions, verbose)\u001B[0m\n\u001B[0;32m    440\u001B[0m     val \u001B[38;5;241m+\u001B[39m\u001B[38;5;241m=\u001B[39m \u001B[38;5;241m1\u001B[39m\n\u001B[0;32m    442\u001B[0m \u001B[38;5;28;01mfor\u001B[39;00m tran \u001B[38;5;129;01min\u001B[39;00m state\u001B[38;5;241m.\u001B[39mactions_transitions[action]:\n\u001B[0;32m    443\u001B[0m     \u001B[38;5;66;03m# Add the cost of the transition to the value\u001B[39;00m\n\u001B[0;32m    444\u001B[0m     \u001B[38;5;28mprint\u001B[39m(\u001B[38;5;124m\"\u001B[39m\u001B[38;5;124mTransition from\u001B[39m\u001B[38;5;124m\"\u001B[39m, tran\u001B[38;5;241m.\u001B[39msrc_state\u001B[38;5;241m.\u001B[39mindex, \u001B[38;5;124m\"\u001B[39m\u001B[38;5;124mto\u001B[39m\u001B[38;5;124m\"\u001B[39m, tran\u001B[38;5;241m.\u001B[39mdst_state\u001B[38;5;241m.\u001B[39mindex, \u001B[38;5;124m\"\u001B[39m\u001B[38;5;124mwith cost\u001B[39m\u001B[38;5;124m\"\u001B[39m,\n\u001B[1;32m--> 445\u001B[0m           \u001B[38;5;28;43mself\u001B[39;49m\u001B[38;5;241;43m.\u001B[39;49m\u001B[43mcost_matrix\u001B[49m\u001B[43m[\u001B[49m\u001B[43mtran\u001B[49m\u001B[38;5;241;43m.\u001B[39;49m\u001B[43msrc_state\u001B[49m\u001B[38;5;241;43m.\u001B[39;49m\u001B[43mindex\u001B[49m\u001B[43m]\u001B[49m\u001B[43m[\u001B[49m\u001B[43mtran\u001B[49m\u001B[38;5;241;43m.\u001B[39;49m\u001B[43mdst_state\u001B[49m\u001B[38;5;241;43m.\u001B[39;49m\u001B[43mindex\u001B[49m\u001B[43m]\u001B[49m)\n\u001B[0;32m    446\u001B[0m     transition_cost \u001B[38;5;241m=\u001B[39m \u001B[38;5;28mself\u001B[39m\u001B[38;5;241m.\u001B[39mcost_matrix[tran\u001B[38;5;241m.\u001B[39msrc_state\u001B[38;5;241m.\u001B[39mindex][tran\u001B[38;5;241m.\u001B[39mdst_state\u001B[38;5;241m.\u001B[39mindex]\n\u001B[0;32m    447\u001B[0m     term \u001B[38;5;241m=\u001B[39m (G[tran\u001B[38;5;241m.\u001B[39mdst_state\u001B[38;5;241m.\u001B[39mindex][\u001B[38;5;241m1\u001B[39m] \u001B[38;5;241m+\u001B[39m transition_cost) \u001B[38;5;241m*\u001B[39m tran\u001B[38;5;241m.\u001B[39mprobability\n",
      "\u001B[1;31mIndexError\u001B[0m: list index out of range"
     ]
    }
   ],
   "execution_count": 5
  },
  {
   "metadata": {},
   "cell_type": "markdown",
   "source": "Plots the training runs of the general algorithms. This can be helpful to determine how various factors might affect the training process.",
   "id": "3ad6447d364524ef"
  },
  {
   "metadata": {},
   "cell_type": "code",
   "source": [
    "plt.title('Difference Measured While Computing Optimal Policy')\n",
    "plt.xlabel('Iteration')\n",
    "plt.ylabel('Difference')\n",
    "plt.plot(wedding_fom_no_cost.computed_policy['diff_tracker'], 'g', label='Step-based')\n",
    "plt.plot(wedding_fom_cost.computed_policy['diff_tracker'], 'b', label='Cost-based')\n",
    "plt.axhline(wedding_fom_no_cost.epsilon, linestyle='--', color='r', label='Epsilon of Convergence')  # Same epsilon for both since they come from same spec\n",
    "plt.legend()"
   ],
   "id": "7689e6d6f41d67cc",
   "outputs": [],
   "execution_count": null
  },
  {
   "metadata": {},
   "cell_type": "markdown",
   "source": "Prints the result of one simulation run for both the no-cost and cost algorithm. This can be used to compare how much better the cost-based general algorithm is.",
   "id": "b48d179858cbba09"
  },
  {
   "metadata": {
    "ExecuteTime": {
     "end_time": "2024-04-07T21:15:14.459701Z",
     "start_time": "2024-04-07T21:15:14.445069Z"
    }
   },
   "cell_type": "code",
   "source": [
    "# Example run\n",
    "result_no_cost = wedding_fom_no_cost.simulate_general_and_greedy_algorithms()  # Spec not needed since we're computing optimal policy separately\n",
    "print(result_no_cost)\n",
    "result_cost = wedding_fom_cost.simulate_general_and_greedy_algorithms()  # Spec not needed since we're computing optimal policy separately\n",
    "print(result_cost)"
   ],
   "id": "34a73d16015329bc",
   "outputs": [
    {
     "name": "stdout",
     "output_type": "stream",
     "text": [
      "{'general_algorithm': {'steps': 15, 'story': 's3d2s3c3d12', 'total_cost': 7}, 'greedy_algorithm': {'steps': 15, 'story': 's3d2s3c3d12', 'total_cost': 7}}\n"
     ]
    }
   ],
   "execution_count": 9
  },
  {
   "metadata": {
    "ExecuteTime": {
     "end_time": "2024-04-07T21:16:51.435226Z",
     "start_time": "2024-04-07T21:16:11.520204Z"
    }
   },
   "cell_type": "code",
   "source": [
    "from tqdm import tqdm\n",
    "\n",
    "# Now, simulate the algorithms across 1000 runs\n",
    "n_runs = 10_000\n",
    "\n",
    "no_cost_steps = []\n",
    "no_cost_costs = []\n",
    "\n",
    "cost_steps = []\n",
    "cost_costs = []\n",
    "\n",
    "for _ in tqdm(range(n_runs)):\n",
    "    result_no_cost = wedding_fom_no_cost.simulate()\n",
    "    no_cost_steps.append(result_no_cost['steps'])\n",
    "    no_cost_costs.append(result_no_cost['total_cost'])\n",
    "\n",
    "    result_cost = wedding_fom_cost.simulate()\n",
    "    cost_steps.append(result_cost['steps'])\n",
    "    cost_costs.append(result_cost['total_cost'])\n"
   ],
   "id": "966e9c2a69594d0e",
   "outputs": [
    {
     "name": "stderr",
     "output_type": "stream",
     "text": [
      "100%|██████████| 10000/10000 [00:39<00:00, 250.89it/s]\n"
     ]
    }
   ],
   "execution_count": 11
  },
  {
   "metadata": {},
   "cell_type": "code",
   "source": [
    "# Plot the two histograms, with cost/no-cost distributions in different colors\n",
    "plt.hist(no_cost_steps, bins=50, alpha=0.5, label='No-Cost')\n",
    "plt.hist(cost_steps, bins=50, alpha=0.5, label='Cost-Optimized')\n",
    "\n",
    "plt.legend()\n",
    "plt.title('Distribution of Steps Taken by Costless and Cost-Optimized Algorithms')\n",
    "plt.xlabel('Steps')\n",
    "plt.ylabel('Frequency')\n",
    "plt.show()"
   ],
   "id": "5f5da8c82a449b7e",
   "outputs": [],
   "execution_count": null
  },
  {
   "metadata": {},
   "cell_type": "code",
   "source": [
    "# Plot the two histograms, with cost/no-cost distributions in different colors\n",
    "plt.hist(no_cost_costs, bins=20, alpha=0.5, label='No-Cost')\n",
    "plt.hist(cost_costs, bins=20, alpha=0.5, label='Cost-Optimized')\n",
    "\n",
    "plt.legend()\n",
    "plt.title('Distribution of Costs Incurred by Costless and Cost-Optimized Algorithms')\n",
    "plt.xlabel('Cost')\n",
    "plt.ylabel('Frequency')\n",
    "plt.show()"
   ],
   "id": "12564a5c052403a8",
   "outputs": [],
   "execution_count": null
  },
  {
   "metadata": {
    "ExecuteTime": {
     "end_time": "2024-04-07T21:17:26.521285Z",
     "start_time": "2024-04-07T21:17:26.497708Z"
    }
   },
   "cell_type": "code",
   "source": [
    "import numpy as np\n",
    "\n",
    "# Print 5-number summary + mean for general and greedy steps taken\n",
    "print('Costless Algorithm Steps Summary:')\n",
    "print('Min:', np.min(no_cost_steps))\n",
    "print('Q1:', np.percentile(no_cost_steps, 25))\n",
    "print('Median:', np.median(no_cost_steps))\n",
    "print('Mean:', np.mean(no_cost_steps))\n",
    "print('Q3:', np.percentile(no_cost_steps, 75))\n",
    "print('Max:', np.max(no_cost_steps))\n",
    "\n",
    "print('\\nCost-Optimized Algorithm Steps Summary:')\n",
    "print('Min:', np.min(cost_steps))\n",
    "print('Q1:', np.percentile(cost_steps, 25))\n",
    "print('Median:', np.median(cost_steps))\n",
    "print('Mean:', np.mean(cost_steps))\n",
    "print('Q3:', np.percentile(cost_steps, 75))\n",
    "print('Max:', np.max(cost_steps))\n",
    "\n",
    "# Print 5-number summary + mean for general and greedy costs incurred\n",
    "print('\\nCostless Algorithm Costs Summary:')\n",
    "print('Min:', np.min(no_cost_costs))\n",
    "print('Q1:', np.percentile(no_cost_costs, 25))\n",
    "print('Median:', np.median(no_cost_costs))\n",
    "print('Mean:', np.mean(no_cost_costs))\n",
    "print('Q3:', np.percentile(no_cost_costs, 75))\n",
    "print('Max:', np.max(no_cost_costs))\n",
    "\n",
    "print('\\nCost-Optimized Algorithm Costs Summary:')\n",
    "print('Min:', np.min(cost_costs))\n",
    "print('Q1:', np.percentile(cost_costs, 25))\n",
    "print('Median:', np.median(cost_costs))\n",
    "print('Mean:', np.mean(cost_costs))\n",
    "print('Q3:', np.percentile(cost_costs, 75))\n",
    "print('Max:', np.max(cost_costs))"
   ],
   "id": "6e7f5d755664f12",
   "outputs": [
    {
     "name": "stdout",
     "output_type": "stream",
     "text": [
      "General Algorithm Steps Summary:\n",
      "Min: 5\n",
      "Q1: 18.0\n",
      "Median: 26.0\n",
      "Mean: 30.4623\n",
      "Q3: 37.0\n",
      "Max: 173\n",
      "\n",
      "Greedy Algorithm Steps Summary:\n",
      "Min: 5\n",
      "Q1: 20.0\n",
      "Median: 28.0\n",
      "Mean: 32.4772\n",
      "Q3: 40.0\n",
      "Max: 173\n",
      "\n",
      "General Algorithm Costs Summary:\n",
      "Min: 1\n",
      "Q1: 8.0\n",
      "Median: 10.0\n",
      "Mean: 10.0512\n",
      "Q3: 12.0\n",
      "Max: 18\n",
      "\n",
      "Greedy Algorithm Costs Summary:\n",
      "Min: 2\n",
      "Q1: 8.0\n",
      "Median: 10.0\n",
      "Mean: 10.1975\n",
      "Q3: 12.0\n",
      "Max: 19\n"
     ]
    }
   ],
   "execution_count": 14
  },
  {
   "metadata": {
    "ExecuteTime": {
     "end_time": "2024-04-07T18:28:55.941708Z",
     "start_time": "2024-04-07T18:28:55.913136Z"
    }
   },
   "cell_type": "code",
   "source": [
    "from scipy.stats import ttest_ind\n",
    "\n",
    "alpha = 0.05\n",
    "\n",
    "# We want to check if both the number of steps and cost is lower for the cost-optimized algorithm than the costless algorithm\n",
    "t_stat, p_val = ttest_ind(cost_steps, no_cost_steps, equal_var=False, alternative='less')\n",
    "print(\"Performing 2-sample t-test to compare costless and cost-optimized algorithms:\")\n",
    "print('T-Statistic:', t_stat)\n",
    "print('P-Value:', p_val)\n",
    "\n",
    "\n",
    "if p_val < alpha:\n",
    "    print('Reject the null hypothesis: The cost-optimized algorithm is significantly lower in steps than the costless algorithm.')\n",
    "else:\n",
    "    print('Fail to reject the null hypothesis: The cost-optimized algorithm is not significantly lower in steps than the costless algorithm.')\n",
    "    \n",
    "# Perform an independent 2-sample t-test to determine if the cost-optimized algorithm is significantly lower in cost than the costless algorithm\n",
    "t_stat, p_val = ttest_ind(cost_costs, no_cost_costs, equal_var=False, alternative='less')\n",
    "print(\"\\nPerforming 2-sample t-test to compare costless and cost-optimized algorithms:\")\n",
    "print('T-Statistic:', t_stat)\n",
    "print('P-Value:', p_val)"
   ],
   "id": "dd94a38f57a80b04",
   "outputs": [
    {
     "name": "stdout",
     "output_type": "stream",
     "text": [
      "Performing 2-sample t-test to compare general and greedy algorithms:\n",
      "T-Statistic: -26.963914303489023\n",
      "P-Value: 3.80146655189153e-160\n",
      "Reject the null hypothesis: The general algorithm is significantly better than the greedy algorithm.\n",
      "\n",
      "Performing 2-sample t-test to compare general and greedy algorithms:\n",
      "T-Statistic: -12.844215714201036\n",
      "P-Value: 4.796951818527035e-38\n"
     ]
    }
   ],
   "execution_count": 31
  },
  {
   "metadata": {},
   "cell_type": "code",
   "outputs": [],
   "execution_count": null,
   "source": "",
   "id": "b23fd49b93cbb989"
  }
 ],
 "metadata": {
  "kernelspec": {
   "display_name": "Python 3",
   "language": "python",
   "name": "python3"
  },
  "language_info": {
   "codemirror_mode": {
    "name": "ipython",
    "version": 2
   },
   "file_extension": ".py",
   "mimetype": "text/x-python",
   "name": "python",
   "nbconvert_exporter": "python",
   "pygments_lexer": "ipython2",
   "version": "2.7.6"
  }
 },
 "nbformat": 4,
 "nbformat_minor": 5
}
